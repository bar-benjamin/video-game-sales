{
 "metadata": {
  "language_info": {
   "codemirror_mode": {
    "name": "ipython",
    "version": 3
   },
   "file_extension": ".py",
   "mimetype": "text/x-python",
   "name": "python",
   "nbconvert_exporter": "python",
   "pygments_lexer": "ipython3",
   "version": 3
  },
  "orig_nbformat": 2,
  "kernelspec": {
   "name": "python_defaultSpec_1595849596114",
   "display_name": "Python 3.8.3 64-bit"
  }
 },
 "nbformat": 4,
 "nbformat_minor": 2,
 "cells": [
  {
   "cell_type": "markdown",
   "metadata": {},
   "source": [
    "# <center>VIDEO GAME SALES 🎮</center>\n",
    "\n",
    "<center><img src=\"https://i.imgur.com/FgGBSeq.gif\"></center>"
   ]
  },
  {
   "cell_type": "markdown",
   "metadata": {},
   "source": [
    "# Description\n",
    "\n",
    "This dataset contains a list of video games with sales greater than 100,000 copies till 2016.\n",
    "\n",
    "**Data description**\n",
    "\n",
    "   * Name - The games name\n",
    "\n",
    "   * Platform - Platform of the games release (i.e. PC,PS4, etc.)\n",
    "\n",
    "   * Year_of_Release - Year of the game's release\n",
    "\n",
    "   * Genre - Genre of the game\n",
    "\n",
    "   * NA_sales - Sales in North America (in USD millions)\n",
    "\n",
    "   * EU_sales - Sales in Europe (in USD millions)\n",
    "\n",
    "   * JP_sales - Sales in Japan (in USD millions)\n",
    "\n",
    "   * Other_Sales - Sales in the rest of the world (in USD millions)\n",
    "\n",
    "   * Critic_Score (maximum of 100) - Critics review score\n",
    "\n",
    "   * User_Score (maximum of 10) - Users review score\n",
    "\n",
    "   * Rating (ESRB) - Ratings determined by the Entertainment Software Rating Board"
   ]
  },
  {
   "cell_type": "markdown",
   "metadata": {},
   "source": [
    "# Objective\n",
    "In this <b>project</b> I will deal only with <b>data preprocessing, exploratory data analysis and statistical data analysis</b>, where the objective is to understand how the data is distributed and generate insight for future decision-making in order to identify patterns that determine whether a game succeeds or not. This will allow companies to spot potential top games and plan advertising campaigns, this analysis aims to explore as much as possible the data in a simple, intuitive and informative way. The data used in this project contains information only from <b>1980</b> to <b>2016</b>. Below is a sketch of all the stages made in these notebooks, following a logical and intuitive sequence to facilitate the understanding of the data."
   ]
  },
  {
   "cell_type": "markdown",
   "metadata": {},
   "source": [
    "# Table of Contents\n",
    "\n",
    "**Step 1. Open the data file and study the general information**<br>\n",
    "A. [Used libraries](#bibliotheque)<br>\n",
    "B. [Explore file information](#information)<br>\n",
    "\n",
    "**Step 2. Prepare the data**<br>\n",
    "A. [Replace the column names](#colonnes)<br>\n",
    "B. [Handle missing values](#valeurs_manquantes)<br>\n",
    "C. [Convert the data to the required types](#conversion)<br>\n",
    "D. [Calculate the total sales for each game](#ventes_totales)<br>\n",
    "E. [Handle invalid data](#invalide)<br>\n",
    "\n",
    "**Step 3. Analyze the data (EDA)**<br>\n",
    "A. [Games per Year](#graphique1)<br>\n",
    "B. [Top Platforms](#graphique2)<br>\n",
    "C. [Prognosis for 2017](#2017)<br>"
   ]
  },
  {
   "cell_type": "markdown",
   "metadata": {},
   "source": [
    "# Step 1. Open the data file and study the general information\n",
    "\n",
    "## A. Used libraries\n",
    "\n",
    "<a id=\"bibliotheque\"></a>"
   ]
  },
  {
   "cell_type": "code",
   "execution_count": 819,
   "metadata": {},
   "outputs": [],
   "source": [
    "import pandas as pd\n",
    "import numpy as np\n",
    "import matplotlib.pyplot as plt\n",
    "%matplotlib inline\n",
    "import seaborn as sns\n",
    "import sys\n",
    "import plotly.express as px"
   ]
  },
  {
   "cell_type": "markdown",
   "metadata": {},
   "source": [
    "## B. Explore file information\n",
    "\n",
    "<a id=\"information\"></a>"
   ]
  },
  {
   "cell_type": "code",
   "execution_count": 820,
   "metadata": {
    "tags": []
   },
   "outputs": [
    {
     "output_type": "stream",
     "name": "stdout",
     "text": "<class 'pandas.core.frame.DataFrame'>\nRangeIndex: 16715 entries, 0 to 16714\nData columns (total 11 columns):\n #   Column           Non-Null Count  Dtype  \n---  ------           --------------  -----  \n 0   Name             16713 non-null  object \n 1   Platform         16715 non-null  object \n 2   Year_of_Release  16446 non-null  float64\n 3   Genre            16713 non-null  object \n 4   NA_sales         16715 non-null  float64\n 5   EU_sales         16715 non-null  float64\n 6   JP_sales         16715 non-null  float64\n 7   Other_sales      16715 non-null  float64\n 8   Critic_Score     8137 non-null   float64\n 9   User_Score       10014 non-null  object \n 10  Rating           9949 non-null   object \ndtypes: float64(6), object(5)\nmemory usage: 1.4+ MB\n"
    }
   ],
   "source": [
    "try:\n",
    "    df = pd.read_csv('/datasets/games.csv')\n",
    "    df.info()\n",
    "except FileNotFoundError:\n",
    "    sys.exit('Error: CSV file was not found')"
   ]
  },
  {
   "cell_type": "code",
   "execution_count": 821,
   "metadata": {},
   "outputs": [
    {
     "output_type": "execute_result",
     "data": {
      "text/plain": "                       Name Platform  Year_of_Release         Genre  NA_sales  \\\n0                Wii Sports      Wii           2006.0        Sports     41.36   \n1         Super Mario Bros.      NES           1985.0      Platform     29.08   \n2            Mario Kart Wii      Wii           2008.0        Racing     15.68   \n3         Wii Sports Resort      Wii           2009.0        Sports     15.61   \n4  Pokemon Red/Pokemon Blue       GB           1996.0  Role-Playing     11.27   \n\n   EU_sales  JP_sales  Other_sales  Critic_Score User_Score Rating  \n0     28.96      3.77         8.45          76.0          8      E  \n1      3.58      6.81         0.77           NaN        NaN    NaN  \n2     12.76      3.79         3.29          82.0        8.3      E  \n3     10.93      3.28         2.95          80.0          8      E  \n4      8.89     10.22         1.00           NaN        NaN    NaN  ",
      "text/html": "<div>\n<style scoped>\n    .dataframe tbody tr th:only-of-type {\n        vertical-align: middle;\n    }\n\n    .dataframe tbody tr th {\n        vertical-align: top;\n    }\n\n    .dataframe thead th {\n        text-align: right;\n    }\n</style>\n<table border=\"1\" class=\"dataframe\">\n  <thead>\n    <tr style=\"text-align: right;\">\n      <th></th>\n      <th>Name</th>\n      <th>Platform</th>\n      <th>Year_of_Release</th>\n      <th>Genre</th>\n      <th>NA_sales</th>\n      <th>EU_sales</th>\n      <th>JP_sales</th>\n      <th>Other_sales</th>\n      <th>Critic_Score</th>\n      <th>User_Score</th>\n      <th>Rating</th>\n    </tr>\n  </thead>\n  <tbody>\n    <tr>\n      <th>0</th>\n      <td>Wii Sports</td>\n      <td>Wii</td>\n      <td>2006.0</td>\n      <td>Sports</td>\n      <td>41.36</td>\n      <td>28.96</td>\n      <td>3.77</td>\n      <td>8.45</td>\n      <td>76.0</td>\n      <td>8</td>\n      <td>E</td>\n    </tr>\n    <tr>\n      <th>1</th>\n      <td>Super Mario Bros.</td>\n      <td>NES</td>\n      <td>1985.0</td>\n      <td>Platform</td>\n      <td>29.08</td>\n      <td>3.58</td>\n      <td>6.81</td>\n      <td>0.77</td>\n      <td>NaN</td>\n      <td>NaN</td>\n      <td>NaN</td>\n    </tr>\n    <tr>\n      <th>2</th>\n      <td>Mario Kart Wii</td>\n      <td>Wii</td>\n      <td>2008.0</td>\n      <td>Racing</td>\n      <td>15.68</td>\n      <td>12.76</td>\n      <td>3.79</td>\n      <td>3.29</td>\n      <td>82.0</td>\n      <td>8.3</td>\n      <td>E</td>\n    </tr>\n    <tr>\n      <th>3</th>\n      <td>Wii Sports Resort</td>\n      <td>Wii</td>\n      <td>2009.0</td>\n      <td>Sports</td>\n      <td>15.61</td>\n      <td>10.93</td>\n      <td>3.28</td>\n      <td>2.95</td>\n      <td>80.0</td>\n      <td>8</td>\n      <td>E</td>\n    </tr>\n    <tr>\n      <th>4</th>\n      <td>Pokemon Red/Pokemon Blue</td>\n      <td>GB</td>\n      <td>1996.0</td>\n      <td>Role-Playing</td>\n      <td>11.27</td>\n      <td>8.89</td>\n      <td>10.22</td>\n      <td>1.00</td>\n      <td>NaN</td>\n      <td>NaN</td>\n      <td>NaN</td>\n    </tr>\n  </tbody>\n</table>\n</div>"
     },
     "metadata": {},
     "execution_count": 821
    }
   ],
   "source": [
    "df.head()"
   ]
  },
  {
   "cell_type": "markdown",
   "metadata": {},
   "source": [
    "# Step 2. Prepare the data\n",
    "\n",
    "## A. Replace the column names\n",
    "\n",
    "<a id=\"colonnes\"></a>"
   ]
  },
  {
   "cell_type": "code",
   "execution_count": 822,
   "metadata": {},
   "outputs": [
    {
     "output_type": "execute_result",
     "data": {
      "text/plain": "Index(['name', 'platform', 'year_of_release', 'genre', 'na_sales', 'eu_sales',\n       'jp_sales', 'other_sales', 'critic_score', 'user_score', 'rating'],\n      dtype='object')"
     },
     "metadata": {},
     "execution_count": 822
    }
   ],
   "source": [
    "# make them lowercase\n",
    "df.columns = [col.lower() for col in df.columns]\n",
    "df.columns"
   ]
  },
  {
   "cell_type": "markdown",
   "metadata": {},
   "source": [
    "## B. Handle missing values\n",
    "\n",
    "<a id=\"valeurs_manquantes\"></a>"
   ]
  },
  {
   "cell_type": "code",
   "execution_count": 823,
   "metadata": {},
   "outputs": [
    {
     "output_type": "execute_result",
     "data": {
      "text/plain": "name                  2\nplatform              0\nyear_of_release     269\ngenre                 2\nna_sales              0\neu_sales              0\njp_sales              0\nother_sales           0\ncritic_score       8578\nuser_score         6701\nrating             6766\ndtype: int64"
     },
     "metadata": {},
     "execution_count": 823
    }
   ],
   "source": [
    "df.isnull().sum()"
   ]
  },
  {
   "cell_type": "code",
   "execution_count": 824,
   "metadata": {
    "tags": []
   },
   "outputs": [
    {
     "output_type": "execute_result",
     "data": {
      "text/plain": "name               0\nplatform           0\nyear_of_release    0\ngenre              0\nna_sales           0\neu_sales           0\njp_sales           0\nother_sales        0\ncritic_score       0\nuser_score         0\nrating             0\ndtype: int64"
     },
     "metadata": {},
     "execution_count": 824
    }
   ],
   "source": [
    "df.dropna(subset=['name', 'year_of_release'], inplace=True)\n",
    "df.fillna(value='tbd', inplace=True) # critic_score is converted automatically to 'object'\n",
    "df.isnull().sum()"
   ]
  },
  {
   "cell_type": "markdown",
   "metadata": {},
   "source": [
    "### Conclusion\n",
    "\n",
    "I removed a total of 271 records in the `year_of_release` and `name` columns because these values are invalid/NaN and a small portion of our data.<br>\n",
    "As for `critic_score`, `user_score` and `rating` we can see that they are approx 50% of our data. Therefore instead of removing them which would be disastrous\n",
    "I entered `tbd` in their missing values because they share a common property of <i>score</i>. `critic_score` is <b>converted automatically</b> to `object` after using `fillna()` method.\n",
    "\n",
    "`tbd` means \"To Be Determined\". The reason `tbd` is in missing values is because there may have not been a review when the data was gathered so it's better to leave it as `tbd` which is a valid value."
   ]
  },
  {
   "cell_type": "markdown",
   "metadata": {},
   "source": [
    "## C. Convert the data to the required types\n",
    "\n",
    "<a id=\"conversion\"></a>"
   ]
  },
  {
   "cell_type": "code",
   "execution_count": 825,
   "metadata": {
    "tags": []
   },
   "outputs": [
    {
     "output_type": "stream",
     "name": "stdout",
     "text": "<class 'pandas.core.frame.DataFrame'>\nInt64Index: 16444 entries, 0 to 16714\nData columns (total 11 columns):\n #   Column           Non-Null Count  Dtype  \n---  ------           --------------  -----  \n 0   name             16444 non-null  object \n 1   platform         16444 non-null  object \n 2   year_of_release  16444 non-null  int64  \n 3   genre            16444 non-null  object \n 4   na_sales         16444 non-null  float64\n 5   eu_sales         16444 non-null  float64\n 6   jp_sales         16444 non-null  float64\n 7   other_sales      16444 non-null  float64\n 8   critic_score     16444 non-null  object \n 9   user_score       16444 non-null  object \n 10  rating           16444 non-null  object \ndtypes: float64(4), int64(1), object(6)\nmemory usage: 1.5+ MB\n"
    }
   ],
   "source": [
    "# Convert year_of_release -> int to fit its proper data type\n",
    "df['year_of_release'] = df['year_of_release'].astype('int64')\n",
    "df.info()"
   ]
  },
  {
   "cell_type": "markdown",
   "metadata": {},
   "source": [
    "## D. Calculate the total sales for each game\n",
    "\n",
    "<a id=\"ventes_totales\"></a>"
   ]
  },
  {
   "cell_type": "code",
   "execution_count": 826,
   "metadata": {},
   "outputs": [
    {
     "output_type": "execute_result",
     "data": {
      "text/plain": "                       name platform  year_of_release         genre  na_sales  \\\n0                Wii Sports      Wii             2006        Sports     41.36   \n1         Super Mario Bros.      NES             1985      Platform     29.08   \n2            Mario Kart Wii      Wii             2008        Racing     15.68   \n3         Wii Sports Resort      Wii             2009        Sports     15.61   \n4  Pokemon Red/Pokemon Blue       GB             1996  Role-Playing     11.27   \n\n   eu_sales  jp_sales  other_sales critic_score user_score rating  total_sales  \n0     28.96      3.77         8.45           76          8      E        82.54  \n1      3.58      6.81         0.77          tbd        tbd    tbd        40.24  \n2     12.76      3.79         3.29           82        8.3      E        35.52  \n3     10.93      3.28         2.95           80          8      E        32.77  \n4      8.89     10.22         1.00          tbd        tbd    tbd        31.38  ",
      "text/html": "<div>\n<style scoped>\n    .dataframe tbody tr th:only-of-type {\n        vertical-align: middle;\n    }\n\n    .dataframe tbody tr th {\n        vertical-align: top;\n    }\n\n    .dataframe thead th {\n        text-align: right;\n    }\n</style>\n<table border=\"1\" class=\"dataframe\">\n  <thead>\n    <tr style=\"text-align: right;\">\n      <th></th>\n      <th>name</th>\n      <th>platform</th>\n      <th>year_of_release</th>\n      <th>genre</th>\n      <th>na_sales</th>\n      <th>eu_sales</th>\n      <th>jp_sales</th>\n      <th>other_sales</th>\n      <th>critic_score</th>\n      <th>user_score</th>\n      <th>rating</th>\n      <th>total_sales</th>\n    </tr>\n  </thead>\n  <tbody>\n    <tr>\n      <th>0</th>\n      <td>Wii Sports</td>\n      <td>Wii</td>\n      <td>2006</td>\n      <td>Sports</td>\n      <td>41.36</td>\n      <td>28.96</td>\n      <td>3.77</td>\n      <td>8.45</td>\n      <td>76</td>\n      <td>8</td>\n      <td>E</td>\n      <td>82.54</td>\n    </tr>\n    <tr>\n      <th>1</th>\n      <td>Super Mario Bros.</td>\n      <td>NES</td>\n      <td>1985</td>\n      <td>Platform</td>\n      <td>29.08</td>\n      <td>3.58</td>\n      <td>6.81</td>\n      <td>0.77</td>\n      <td>tbd</td>\n      <td>tbd</td>\n      <td>tbd</td>\n      <td>40.24</td>\n    </tr>\n    <tr>\n      <th>2</th>\n      <td>Mario Kart Wii</td>\n      <td>Wii</td>\n      <td>2008</td>\n      <td>Racing</td>\n      <td>15.68</td>\n      <td>12.76</td>\n      <td>3.79</td>\n      <td>3.29</td>\n      <td>82</td>\n      <td>8.3</td>\n      <td>E</td>\n      <td>35.52</td>\n    </tr>\n    <tr>\n      <th>3</th>\n      <td>Wii Sports Resort</td>\n      <td>Wii</td>\n      <td>2009</td>\n      <td>Sports</td>\n      <td>15.61</td>\n      <td>10.93</td>\n      <td>3.28</td>\n      <td>2.95</td>\n      <td>80</td>\n      <td>8</td>\n      <td>E</td>\n      <td>32.77</td>\n    </tr>\n    <tr>\n      <th>4</th>\n      <td>Pokemon Red/Pokemon Blue</td>\n      <td>GB</td>\n      <td>1996</td>\n      <td>Role-Playing</td>\n      <td>11.27</td>\n      <td>8.89</td>\n      <td>10.22</td>\n      <td>1.00</td>\n      <td>tbd</td>\n      <td>tbd</td>\n      <td>tbd</td>\n      <td>31.38</td>\n    </tr>\n  </tbody>\n</table>\n</div>"
     },
     "metadata": {},
     "execution_count": 826
    }
   ],
   "source": [
    "# Calculate the sum of sales in all regions\n",
    "df['total_sales'] = df['na_sales'] + df['eu_sales'] + df['jp_sales'] + df['other_sales']\n",
    "df.head()"
   ]
  },
  {
   "cell_type": "markdown",
   "metadata": {},
   "source": [
    "## E. Handle invalid data\n",
    "\n",
    "<a id=\"invalide\"></a>\n",
    "\n",
    "Noticed that DS(Nintendo DS) was released on 2004(<a href=\"https://en.wikipedia.org/wiki/Nintendo_DS\">source</a>) and there is 1 game from 1985 where its platform is DS"
   ]
  },
  {
   "cell_type": "code",
   "execution_count": 827,
   "metadata": {},
   "outputs": [
    {
     "output_type": "execute_result",
     "data": {
      "text/plain": "                                      name platform  year_of_release   genre  \\\n15957  Strongest Tokyo University Shogi DS       DS             1985  Action   \n\n       na_sales  eu_sales  jp_sales  other_sales critic_score user_score  \\\n15957       0.0       0.0      0.02          0.0          tbd        tbd   \n\n      rating  total_sales  \n15957    tbd         0.02  ",
      "text/html": "<div>\n<style scoped>\n    .dataframe tbody tr th:only-of-type {\n        vertical-align: middle;\n    }\n\n    .dataframe tbody tr th {\n        vertical-align: top;\n    }\n\n    .dataframe thead th {\n        text-align: right;\n    }\n</style>\n<table border=\"1\" class=\"dataframe\">\n  <thead>\n    <tr style=\"text-align: right;\">\n      <th></th>\n      <th>name</th>\n      <th>platform</th>\n      <th>year_of_release</th>\n      <th>genre</th>\n      <th>na_sales</th>\n      <th>eu_sales</th>\n      <th>jp_sales</th>\n      <th>other_sales</th>\n      <th>critic_score</th>\n      <th>user_score</th>\n      <th>rating</th>\n      <th>total_sales</th>\n    </tr>\n  </thead>\n  <tbody>\n    <tr>\n      <th>15957</th>\n      <td>Strongest Tokyo University Shogi DS</td>\n      <td>DS</td>\n      <td>1985</td>\n      <td>Action</td>\n      <td>0.0</td>\n      <td>0.0</td>\n      <td>0.02</td>\n      <td>0.0</td>\n      <td>tbd</td>\n      <td>tbd</td>\n      <td>tbd</td>\n      <td>0.02</td>\n    </tr>\n  </tbody>\n</table>\n</div>"
     },
     "metadata": {},
     "execution_count": 827
    }
   ],
   "source": [
    "filt = (df['platform'] == 'DS') & (df['year_of_release'] < 2004)\n",
    "df[filt]"
   ]
  },
  {
   "cell_type": "code",
   "execution_count": 828,
   "metadata": {},
   "outputs": [],
   "source": [
    "# Delete this row based on a conditional expression\n",
    "df.drop(df[filt].index, inplace=True)"
   ]
  },
  {
   "cell_type": "markdown",
   "metadata": {},
   "source": [
    "# Step 3. Analyze the data (EDA)\n",
    "\n",
    "## A. Games per Year\n",
    "\n",
    "<a id=\"graphique1\"></a>"
   ]
  },
  {
   "cell_type": "code",
   "execution_count": 829,
   "metadata": {},
   "outputs": [
    {
     "output_type": "execute_result",
     "data": {
      "text/plain": "year_of_release\n1980     9\n1981    46\n1982    36\n1983    17\n1984    14\nName: name, dtype: int64"
     },
     "metadata": {},
     "execution_count": 829
    }
   ],
   "source": [
    "games_per_year = df.groupby('year_of_release')['name'].count()\n",
    "games_per_year.head()"
   ]
  },
  {
   "cell_type": "code",
   "execution_count": 830,
   "metadata": {},
   "outputs": [
    {
     "output_type": "display_data",
     "data": {
      "text/plain": "<Figure size 1296x648 with 1 Axes>",
      "image/svg+xml": "<?xml version=\"1.0\" encoding=\"utf-8\" standalone=\"no\"?>\r\n<!DOCTYPE svg PUBLIC \"-//W3C//DTD SVG 1.1//EN\"\r\n  \"http://www.w3.org/Graphics/SVG/1.1/DTD/svg11.dtd\">\r\n<!-- Created with matplotlib (https://matplotlib.org/) -->\r\n<svg height=\"589.5849pt\" version=\"1.1\" viewBox=\"0 0 1100.96625 589.5849\" width=\"1100.96625pt\" xmlns=\"http://www.w3.org/2000/svg\" xmlns:xlink=\"http://www.w3.org/1999/xlink\">\r\n <defs>\r\n  <style type=\"text/css\">\r\n*{stroke-linecap:butt;stroke-linejoin:round;}\r\n  </style>\r\n </defs>\r\n <g id=\"figure_1\">\r\n  <g id=\"patch_1\">\r\n   <path d=\"M 0 589.5849 \r\nL 1100.96625 589.5849 \r\nL 1100.96625 0 \r\nL 0 0 \r\nz\r\n\" style=\"fill:none;\"/>\r\n  </g>\r\n  <g id=\"axes_1\">\r\n   <g id=\"patch_2\">\r\n    <path d=\"M 89.36625 528.608025 \r\nL 1093.76625 528.608025 \r\nL 1093.76625 39.368025 \r\nL 89.36625 39.368025 \r\nz\r\n\" style=\"fill:#ffffff;\"/>\r\n   </g>\r\n   <g id=\"matplotlib.axis_1\">\r\n    <g id=\"xtick_1\">\r\n     <g id=\"line2d_1\">\r\n      <path clip-path=\"url(#p00df387574)\" d=\"M 135.020795 528.608025 \r\nL 135.020795 39.368025 \r\n\" style=\"fill:none;stroke:#b0b0b0;stroke-linecap:square;stroke-width:0.8;\"/>\r\n     </g>\r\n     <g id=\"line2d_2\">\r\n      <defs>\r\n       <path d=\"M 0 0 \r\nL 0 3.5 \r\n\" id=\"m03b288cada\" style=\"stroke:#000000;stroke-width:0.8;\"/>\r\n      </defs>\r\n      <g>\r\n       <use style=\"stroke:#000000;stroke-width:0.8;\" x=\"135.020795\" xlink:href=\"#m03b288cada\" y=\"528.608025\"/>\r\n      </g>\r\n     </g>\r\n     <g id=\"text_1\">\r\n      <!-- 1980 -->\r\n      <defs>\r\n       <path d=\"M 12.40625 8.296875 \r\nL 28.515625 8.296875 \r\nL 28.515625 63.921875 \r\nL 10.984375 60.40625 \r\nL 10.984375 69.390625 \r\nL 28.421875 72.90625 \r\nL 38.28125 72.90625 \r\nL 38.28125 8.296875 \r\nL 54.390625 8.296875 \r\nL 54.390625 0 \r\nL 12.40625 0 \r\nz\r\n\" id=\"DejaVuSans-49\"/>\r\n       <path d=\"M 10.984375 1.515625 \r\nL 10.984375 10.5 \r\nQ 14.703125 8.734375 18.5 7.8125 \r\nQ 22.3125 6.890625 25.984375 6.890625 \r\nQ 35.75 6.890625 40.890625 13.453125 \r\nQ 46.046875 20.015625 46.78125 33.40625 \r\nQ 43.953125 29.203125 39.59375 26.953125 \r\nQ 35.25 24.703125 29.984375 24.703125 \r\nQ 19.046875 24.703125 12.671875 31.3125 \r\nQ 6.296875 37.9375 6.296875 49.421875 \r\nQ 6.296875 60.640625 12.9375 67.421875 \r\nQ 19.578125 74.21875 30.609375 74.21875 \r\nQ 43.265625 74.21875 49.921875 64.515625 \r\nQ 56.59375 54.828125 56.59375 36.375 \r\nQ 56.59375 19.140625 48.40625 8.859375 \r\nQ 40.234375 -1.421875 26.421875 -1.421875 \r\nQ 22.703125 -1.421875 18.890625 -0.6875 \r\nQ 15.09375 0.046875 10.984375 1.515625 \r\nz\r\nM 30.609375 32.421875 \r\nQ 37.25 32.421875 41.125 36.953125 \r\nQ 45.015625 41.5 45.015625 49.421875 \r\nQ 45.015625 57.28125 41.125 61.84375 \r\nQ 37.25 66.40625 30.609375 66.40625 \r\nQ 23.96875 66.40625 20.09375 61.84375 \r\nQ 16.21875 57.28125 16.21875 49.421875 \r\nQ 16.21875 41.5 20.09375 36.953125 \r\nQ 23.96875 32.421875 30.609375 32.421875 \r\nz\r\n\" id=\"DejaVuSans-57\"/>\r\n       <path d=\"M 31.78125 34.625 \r\nQ 24.75 34.625 20.71875 30.859375 \r\nQ 16.703125 27.09375 16.703125 20.515625 \r\nQ 16.703125 13.921875 20.71875 10.15625 \r\nQ 24.75 6.390625 31.78125 6.390625 \r\nQ 38.8125 6.390625 42.859375 10.171875 \r\nQ 46.921875 13.96875 46.921875 20.515625 \r\nQ 46.921875 27.09375 42.890625 30.859375 \r\nQ 38.875 34.625 31.78125 34.625 \r\nz\r\nM 21.921875 38.8125 \r\nQ 15.578125 40.375 12.03125 44.71875 \r\nQ 8.5 49.078125 8.5 55.328125 \r\nQ 8.5 64.0625 14.71875 69.140625 \r\nQ 20.953125 74.21875 31.78125 74.21875 \r\nQ 42.671875 74.21875 48.875 69.140625 \r\nQ 55.078125 64.0625 55.078125 55.328125 \r\nQ 55.078125 49.078125 51.53125 44.71875 \r\nQ 48 40.375 41.703125 38.8125 \r\nQ 48.828125 37.15625 52.796875 32.3125 \r\nQ 56.78125 27.484375 56.78125 20.515625 \r\nQ 56.78125 9.90625 50.3125 4.234375 \r\nQ 43.84375 -1.421875 31.78125 -1.421875 \r\nQ 19.734375 -1.421875 13.25 4.234375 \r\nQ 6.78125 9.90625 6.78125 20.515625 \r\nQ 6.78125 27.484375 10.78125 32.3125 \r\nQ 14.796875 37.15625 21.921875 38.8125 \r\nz\r\nM 18.3125 54.390625 \r\nQ 18.3125 48.734375 21.84375 45.5625 \r\nQ 25.390625 42.390625 31.78125 42.390625 \r\nQ 38.140625 42.390625 41.71875 45.5625 \r\nQ 45.3125 48.734375 45.3125 54.390625 \r\nQ 45.3125 60.0625 41.71875 63.234375 \r\nQ 38.140625 66.40625 31.78125 66.40625 \r\nQ 25.390625 66.40625 21.84375 63.234375 \r\nQ 18.3125 60.0625 18.3125 54.390625 \r\nz\r\n\" id=\"DejaVuSans-56\"/>\r\n       <path d=\"M 31.78125 66.40625 \r\nQ 24.171875 66.40625 20.328125 58.90625 \r\nQ 16.5 51.421875 16.5 36.375 \r\nQ 16.5 21.390625 20.328125 13.890625 \r\nQ 24.171875 6.390625 31.78125 6.390625 \r\nQ 39.453125 6.390625 43.28125 13.890625 \r\nQ 47.125 21.390625 47.125 36.375 \r\nQ 47.125 51.421875 43.28125 58.90625 \r\nQ 39.453125 66.40625 31.78125 66.40625 \r\nz\r\nM 31.78125 74.21875 \r\nQ 44.046875 74.21875 50.515625 64.515625 \r\nQ 56.984375 54.828125 56.984375 36.375 \r\nQ 56.984375 17.96875 50.515625 8.265625 \r\nQ 44.046875 -1.421875 31.78125 -1.421875 \r\nQ 19.53125 -1.421875 13.0625 8.265625 \r\nQ 6.59375 17.96875 6.59375 36.375 \r\nQ 6.59375 54.828125 13.0625 64.515625 \r\nQ 19.53125 74.21875 31.78125 74.21875 \r\nz\r\n\" id=\"DejaVuSans-48\"/>\r\n      </defs>\r\n      <g transform=\"translate(112.115795 549.285213)scale(0.18 -0.18)\">\r\n       <use xlink:href=\"#DejaVuSans-49\"/>\r\n       <use x=\"63.623047\" xlink:href=\"#DejaVuSans-57\"/>\r\n       <use x=\"127.246094\" xlink:href=\"#DejaVuSans-56\"/>\r\n       <use x=\"190.869141\" xlink:href=\"#DejaVuSans-48\"/>\r\n      </g>\r\n     </g>\r\n    </g>\r\n    <g id=\"xtick_2\">\r\n     <g id=\"line2d_3\">\r\n      <path clip-path=\"url(#p00df387574)\" d=\"M 261.838977 528.608025 \r\nL 261.838977 39.368025 \r\n\" style=\"fill:none;stroke:#b0b0b0;stroke-linecap:square;stroke-width:0.8;\"/>\r\n     </g>\r\n     <g id=\"line2d_4\">\r\n      <g>\r\n       <use style=\"stroke:#000000;stroke-width:0.8;\" x=\"261.838977\" xlink:href=\"#m03b288cada\" y=\"528.608025\"/>\r\n      </g>\r\n     </g>\r\n     <g id=\"text_2\">\r\n      <!-- 1985 -->\r\n      <defs>\r\n       <path d=\"M 10.796875 72.90625 \r\nL 49.515625 72.90625 \r\nL 49.515625 64.59375 \r\nL 19.828125 64.59375 \r\nL 19.828125 46.734375 \r\nQ 21.96875 47.46875 24.109375 47.828125 \r\nQ 26.265625 48.1875 28.421875 48.1875 \r\nQ 40.625 48.1875 47.75 41.5 \r\nQ 54.890625 34.8125 54.890625 23.390625 \r\nQ 54.890625 11.625 47.5625 5.09375 \r\nQ 40.234375 -1.421875 26.90625 -1.421875 \r\nQ 22.3125 -1.421875 17.546875 -0.640625 \r\nQ 12.796875 0.140625 7.71875 1.703125 \r\nL 7.71875 11.625 \r\nQ 12.109375 9.234375 16.796875 8.0625 \r\nQ 21.484375 6.890625 26.703125 6.890625 \r\nQ 35.15625 6.890625 40.078125 11.328125 \r\nQ 45.015625 15.765625 45.015625 23.390625 \r\nQ 45.015625 31 40.078125 35.4375 \r\nQ 35.15625 39.890625 26.703125 39.890625 \r\nQ 22.75 39.890625 18.8125 39.015625 \r\nQ 14.890625 38.140625 10.796875 36.28125 \r\nz\r\n\" id=\"DejaVuSans-53\"/>\r\n      </defs>\r\n      <g transform=\"translate(238.933977 549.285213)scale(0.18 -0.18)\">\r\n       <use xlink:href=\"#DejaVuSans-49\"/>\r\n       <use x=\"63.623047\" xlink:href=\"#DejaVuSans-57\"/>\r\n       <use x=\"127.246094\" xlink:href=\"#DejaVuSans-56\"/>\r\n       <use x=\"190.869141\" xlink:href=\"#DejaVuSans-53\"/>\r\n      </g>\r\n     </g>\r\n    </g>\r\n    <g id=\"xtick_3\">\r\n     <g id=\"line2d_5\">\r\n      <path clip-path=\"url(#p00df387574)\" d=\"M 388.657159 528.608025 \r\nL 388.657159 39.368025 \r\n\" style=\"fill:none;stroke:#b0b0b0;stroke-linecap:square;stroke-width:0.8;\"/>\r\n     </g>\r\n     <g id=\"line2d_6\">\r\n      <g>\r\n       <use style=\"stroke:#000000;stroke-width:0.8;\" x=\"388.657159\" xlink:href=\"#m03b288cada\" y=\"528.608025\"/>\r\n      </g>\r\n     </g>\r\n     <g id=\"text_3\">\r\n      <!-- 1990 -->\r\n      <g transform=\"translate(365.752159 549.285213)scale(0.18 -0.18)\">\r\n       <use xlink:href=\"#DejaVuSans-49\"/>\r\n       <use x=\"63.623047\" xlink:href=\"#DejaVuSans-57\"/>\r\n       <use x=\"127.246094\" xlink:href=\"#DejaVuSans-57\"/>\r\n       <use x=\"190.869141\" xlink:href=\"#DejaVuSans-48\"/>\r\n      </g>\r\n     </g>\r\n    </g>\r\n    <g id=\"xtick_4\">\r\n     <g id=\"line2d_7\">\r\n      <path clip-path=\"url(#p00df387574)\" d=\"M 515.475341 528.608025 \r\nL 515.475341 39.368025 \r\n\" style=\"fill:none;stroke:#b0b0b0;stroke-linecap:square;stroke-width:0.8;\"/>\r\n     </g>\r\n     <g id=\"line2d_8\">\r\n      <g>\r\n       <use style=\"stroke:#000000;stroke-width:0.8;\" x=\"515.475341\" xlink:href=\"#m03b288cada\" y=\"528.608025\"/>\r\n      </g>\r\n     </g>\r\n     <g id=\"text_4\">\r\n      <!-- 1995 -->\r\n      <g transform=\"translate(492.570341 549.285213)scale(0.18 -0.18)\">\r\n       <use xlink:href=\"#DejaVuSans-49\"/>\r\n       <use x=\"63.623047\" xlink:href=\"#DejaVuSans-57\"/>\r\n       <use x=\"127.246094\" xlink:href=\"#DejaVuSans-57\"/>\r\n       <use x=\"190.869141\" xlink:href=\"#DejaVuSans-53\"/>\r\n      </g>\r\n     </g>\r\n    </g>\r\n    <g id=\"xtick_5\">\r\n     <g id=\"line2d_9\">\r\n      <path clip-path=\"url(#p00df387574)\" d=\"M 642.293523 528.608025 \r\nL 642.293523 39.368025 \r\n\" style=\"fill:none;stroke:#b0b0b0;stroke-linecap:square;stroke-width:0.8;\"/>\r\n     </g>\r\n     <g id=\"line2d_10\">\r\n      <g>\r\n       <use style=\"stroke:#000000;stroke-width:0.8;\" x=\"642.293523\" xlink:href=\"#m03b288cada\" y=\"528.608025\"/>\r\n      </g>\r\n     </g>\r\n     <g id=\"text_5\">\r\n      <!-- 2000 -->\r\n      <defs>\r\n       <path d=\"M 19.1875 8.296875 \r\nL 53.609375 8.296875 \r\nL 53.609375 0 \r\nL 7.328125 0 \r\nL 7.328125 8.296875 \r\nQ 12.9375 14.109375 22.625 23.890625 \r\nQ 32.328125 33.6875 34.8125 36.53125 \r\nQ 39.546875 41.84375 41.421875 45.53125 \r\nQ 43.3125 49.21875 43.3125 52.78125 \r\nQ 43.3125 58.59375 39.234375 62.25 \r\nQ 35.15625 65.921875 28.609375 65.921875 \r\nQ 23.96875 65.921875 18.8125 64.3125 \r\nQ 13.671875 62.703125 7.8125 59.421875 \r\nL 7.8125 69.390625 \r\nQ 13.765625 71.78125 18.9375 73 \r\nQ 24.125 74.21875 28.421875 74.21875 \r\nQ 39.75 74.21875 46.484375 68.546875 \r\nQ 53.21875 62.890625 53.21875 53.421875 \r\nQ 53.21875 48.921875 51.53125 44.890625 \r\nQ 49.859375 40.875 45.40625 35.40625 \r\nQ 44.1875 33.984375 37.640625 27.21875 \r\nQ 31.109375 20.453125 19.1875 8.296875 \r\nz\r\n\" id=\"DejaVuSans-50\"/>\r\n      </defs>\r\n      <g transform=\"translate(619.388523 549.285213)scale(0.18 -0.18)\">\r\n       <use xlink:href=\"#DejaVuSans-50\"/>\r\n       <use x=\"63.623047\" xlink:href=\"#DejaVuSans-48\"/>\r\n       <use x=\"127.246094\" xlink:href=\"#DejaVuSans-48\"/>\r\n       <use x=\"190.869141\" xlink:href=\"#DejaVuSans-48\"/>\r\n      </g>\r\n     </g>\r\n    </g>\r\n    <g id=\"xtick_6\">\r\n     <g id=\"line2d_11\">\r\n      <path clip-path=\"url(#p00df387574)\" d=\"M 769.111705 528.608025 \r\nL 769.111705 39.368025 \r\n\" style=\"fill:none;stroke:#b0b0b0;stroke-linecap:square;stroke-width:0.8;\"/>\r\n     </g>\r\n     <g id=\"line2d_12\">\r\n      <g>\r\n       <use style=\"stroke:#000000;stroke-width:0.8;\" x=\"769.111705\" xlink:href=\"#m03b288cada\" y=\"528.608025\"/>\r\n      </g>\r\n     </g>\r\n     <g id=\"text_6\">\r\n      <!-- 2005 -->\r\n      <g transform=\"translate(746.206705 549.285213)scale(0.18 -0.18)\">\r\n       <use xlink:href=\"#DejaVuSans-50\"/>\r\n       <use x=\"63.623047\" xlink:href=\"#DejaVuSans-48\"/>\r\n       <use x=\"127.246094\" xlink:href=\"#DejaVuSans-48\"/>\r\n       <use x=\"190.869141\" xlink:href=\"#DejaVuSans-53\"/>\r\n      </g>\r\n     </g>\r\n    </g>\r\n    <g id=\"xtick_7\">\r\n     <g id=\"line2d_13\">\r\n      <path clip-path=\"url(#p00df387574)\" d=\"M 895.929886 528.608025 \r\nL 895.929886 39.368025 \r\n\" style=\"fill:none;stroke:#b0b0b0;stroke-linecap:square;stroke-width:0.8;\"/>\r\n     </g>\r\n     <g id=\"line2d_14\">\r\n      <g>\r\n       <use style=\"stroke:#000000;stroke-width:0.8;\" x=\"895.929886\" xlink:href=\"#m03b288cada\" y=\"528.608025\"/>\r\n      </g>\r\n     </g>\r\n     <g id=\"text_7\">\r\n      <!-- 2010 -->\r\n      <g transform=\"translate(873.024886 549.285213)scale(0.18 -0.18)\">\r\n       <use xlink:href=\"#DejaVuSans-50\"/>\r\n       <use x=\"63.623047\" xlink:href=\"#DejaVuSans-48\"/>\r\n       <use x=\"127.246094\" xlink:href=\"#DejaVuSans-49\"/>\r\n       <use x=\"190.869141\" xlink:href=\"#DejaVuSans-48\"/>\r\n      </g>\r\n     </g>\r\n    </g>\r\n    <g id=\"xtick_8\">\r\n     <g id=\"line2d_15\">\r\n      <path clip-path=\"url(#p00df387574)\" d=\"M 1022.748068 528.608025 \r\nL 1022.748068 39.368025 \r\n\" style=\"fill:none;stroke:#b0b0b0;stroke-linecap:square;stroke-width:0.8;\"/>\r\n     </g>\r\n     <g id=\"line2d_16\">\r\n      <g>\r\n       <use style=\"stroke:#000000;stroke-width:0.8;\" x=\"1022.748068\" xlink:href=\"#m03b288cada\" y=\"528.608025\"/>\r\n      </g>\r\n     </g>\r\n     <g id=\"text_8\">\r\n      <!-- 2015 -->\r\n      <g transform=\"translate(999.843068 549.285213)scale(0.18 -0.18)\">\r\n       <use xlink:href=\"#DejaVuSans-50\"/>\r\n       <use x=\"63.623047\" xlink:href=\"#DejaVuSans-48\"/>\r\n       <use x=\"127.246094\" xlink:href=\"#DejaVuSans-49\"/>\r\n       <use x=\"190.869141\" xlink:href=\"#DejaVuSans-53\"/>\r\n      </g>\r\n     </g>\r\n    </g>\r\n    <g id=\"text_9\">\r\n     <!-- Year -->\r\n     <defs>\r\n      <path d=\"M -0.203125 72.90625 \r\nL 10.40625 72.90625 \r\nL 30.609375 42.921875 \r\nL 50.6875 72.90625 \r\nL 61.28125 72.90625 \r\nL 35.5 34.71875 \r\nL 35.5 0 \r\nL 25.59375 0 \r\nL 25.59375 34.71875 \r\nz\r\n\" id=\"DejaVuSans-89\"/>\r\n      <path d=\"M 56.203125 29.59375 \r\nL 56.203125 25.203125 \r\nL 14.890625 25.203125 \r\nQ 15.484375 15.921875 20.484375 11.0625 \r\nQ 25.484375 6.203125 34.421875 6.203125 \r\nQ 39.59375 6.203125 44.453125 7.46875 \r\nQ 49.3125 8.734375 54.109375 11.28125 \r\nL 54.109375 2.78125 \r\nQ 49.265625 0.734375 44.1875 -0.34375 \r\nQ 39.109375 -1.421875 33.890625 -1.421875 \r\nQ 20.796875 -1.421875 13.15625 6.1875 \r\nQ 5.515625 13.8125 5.515625 26.8125 \r\nQ 5.515625 40.234375 12.765625 48.109375 \r\nQ 20.015625 56 32.328125 56 \r\nQ 43.359375 56 49.78125 48.890625 \r\nQ 56.203125 41.796875 56.203125 29.59375 \r\nz\r\nM 47.21875 32.234375 \r\nQ 47.125 39.59375 43.09375 43.984375 \r\nQ 39.0625 48.390625 32.421875 48.390625 \r\nQ 24.90625 48.390625 20.390625 44.140625 \r\nQ 15.875 39.890625 15.1875 32.171875 \r\nz\r\n\" id=\"DejaVuSans-101\"/>\r\n      <path d=\"M 34.28125 27.484375 \r\nQ 23.390625 27.484375 19.1875 25 \r\nQ 14.984375 22.515625 14.984375 16.5 \r\nQ 14.984375 11.71875 18.140625 8.90625 \r\nQ 21.296875 6.109375 26.703125 6.109375 \r\nQ 34.1875 6.109375 38.703125 11.40625 \r\nQ 43.21875 16.703125 43.21875 25.484375 \r\nL 43.21875 27.484375 \r\nz\r\nM 52.203125 31.203125 \r\nL 52.203125 0 \r\nL 43.21875 0 \r\nL 43.21875 8.296875 \r\nQ 40.140625 3.328125 35.546875 0.953125 \r\nQ 30.953125 -1.421875 24.3125 -1.421875 \r\nQ 15.921875 -1.421875 10.953125 3.296875 \r\nQ 6 8.015625 6 15.921875 \r\nQ 6 25.140625 12.171875 29.828125 \r\nQ 18.359375 34.515625 30.609375 34.515625 \r\nL 43.21875 34.515625 \r\nL 43.21875 35.40625 \r\nQ 43.21875 41.609375 39.140625 45 \r\nQ 35.0625 48.390625 27.6875 48.390625 \r\nQ 23 48.390625 18.546875 47.265625 \r\nQ 14.109375 46.140625 10.015625 43.890625 \r\nL 10.015625 52.203125 \r\nQ 14.9375 54.109375 19.578125 55.046875 \r\nQ 24.21875 56 28.609375 56 \r\nQ 40.484375 56 46.34375 49.84375 \r\nQ 52.203125 43.703125 52.203125 31.203125 \r\nz\r\n\" id=\"DejaVuSans-97\"/>\r\n      <path d=\"M 41.109375 46.296875 \r\nQ 39.59375 47.171875 37.8125 47.578125 \r\nQ 36.03125 48 33.890625 48 \r\nQ 26.265625 48 22.1875 43.046875 \r\nQ 18.109375 38.09375 18.109375 28.8125 \r\nL 18.109375 0 \r\nL 9.078125 0 \r\nL 9.078125 54.6875 \r\nL 18.109375 54.6875 \r\nL 18.109375 46.1875 \r\nQ 20.953125 51.171875 25.484375 53.578125 \r\nQ 30.03125 56 36.53125 56 \r\nQ 37.453125 56 38.578125 55.875 \r\nQ 39.703125 55.765625 41.0625 55.515625 \r\nz\r\n\" id=\"DejaVuSans-114\"/>\r\n     </defs>\r\n     <g transform=\"translate(570.39125 578.225525)scale(0.2 -0.2)\">\r\n      <use xlink:href=\"#DejaVuSans-89\"/>\r\n      <use x=\"47.833984\" xlink:href=\"#DejaVuSans-101\"/>\r\n      <use x=\"109.357422\" xlink:href=\"#DejaVuSans-97\"/>\r\n      <use x=\"170.636719\" xlink:href=\"#DejaVuSans-114\"/>\r\n     </g>\r\n    </g>\r\n   </g>\r\n   <g id=\"matplotlib.axis_2\">\r\n    <g id=\"ytick_1\">\r\n     <g id=\"line2d_17\">\r\n      <path clip-path=\"url(#p00df387574)\" d=\"M 89.36625 509.192744 \r\nL 1093.76625 509.192744 \r\n\" style=\"fill:none;stroke:#b0b0b0;stroke-linecap:square;stroke-width:0.8;\"/>\r\n     </g>\r\n     <g id=\"line2d_18\">\r\n      <defs>\r\n       <path d=\"M 0 0 \r\nL -3.5 0 \r\n\" id=\"m952d731677\" style=\"stroke:#000000;stroke-width:0.8;\"/>\r\n      </defs>\r\n      <g>\r\n       <use style=\"stroke:#000000;stroke-width:0.8;\" x=\"89.36625\" xlink:href=\"#m952d731677\" y=\"509.192744\"/>\r\n      </g>\r\n     </g>\r\n     <g id=\"text_10\">\r\n      <!-- 0 -->\r\n      <g transform=\"translate(70.91375 516.031337)scale(0.18 -0.18)\">\r\n       <use xlink:href=\"#DejaVuSans-48\"/>\r\n      </g>\r\n     </g>\r\n    </g>\r\n    <g id=\"ytick_2\">\r\n     <g id=\"line2d_19\">\r\n      <path clip-path=\"url(#p00df387574)\" d=\"M 89.36625 446.461624 \r\nL 1093.76625 446.461624 \r\n\" style=\"fill:none;stroke:#b0b0b0;stroke-linecap:square;stroke-width:0.8;\"/>\r\n     </g>\r\n     <g id=\"line2d_20\">\r\n      <g>\r\n       <use style=\"stroke:#000000;stroke-width:0.8;\" x=\"89.36625\" xlink:href=\"#m952d731677\" y=\"446.461624\"/>\r\n      </g>\r\n     </g>\r\n     <g id=\"text_11\">\r\n      <!-- 200 -->\r\n      <g transform=\"translate(48.00875 453.300218)scale(0.18 -0.18)\">\r\n       <use xlink:href=\"#DejaVuSans-50\"/>\r\n       <use x=\"63.623047\" xlink:href=\"#DejaVuSans-48\"/>\r\n       <use x=\"127.246094\" xlink:href=\"#DejaVuSans-48\"/>\r\n      </g>\r\n     </g>\r\n    </g>\r\n    <g id=\"ytick_3\">\r\n     <g id=\"line2d_21\">\r\n      <path clip-path=\"url(#p00df387574)\" d=\"M 89.36625 383.730505 \r\nL 1093.76625 383.730505 \r\n\" style=\"fill:none;stroke:#b0b0b0;stroke-linecap:square;stroke-width:0.8;\"/>\r\n     </g>\r\n     <g id=\"line2d_22\">\r\n      <g>\r\n       <use style=\"stroke:#000000;stroke-width:0.8;\" x=\"89.36625\" xlink:href=\"#m952d731677\" y=\"383.730505\"/>\r\n      </g>\r\n     </g>\r\n     <g id=\"text_12\">\r\n      <!-- 400 -->\r\n      <defs>\r\n       <path d=\"M 37.796875 64.3125 \r\nL 12.890625 25.390625 \r\nL 37.796875 25.390625 \r\nz\r\nM 35.203125 72.90625 \r\nL 47.609375 72.90625 \r\nL 47.609375 25.390625 \r\nL 58.015625 25.390625 \r\nL 58.015625 17.1875 \r\nL 47.609375 17.1875 \r\nL 47.609375 0 \r\nL 37.796875 0 \r\nL 37.796875 17.1875 \r\nL 4.890625 17.1875 \r\nL 4.890625 26.703125 \r\nz\r\n\" id=\"DejaVuSans-52\"/>\r\n      </defs>\r\n      <g transform=\"translate(48.00875 390.569099)scale(0.18 -0.18)\">\r\n       <use xlink:href=\"#DejaVuSans-52\"/>\r\n       <use x=\"63.623047\" xlink:href=\"#DejaVuSans-48\"/>\r\n       <use x=\"127.246094\" xlink:href=\"#DejaVuSans-48\"/>\r\n      </g>\r\n     </g>\r\n    </g>\r\n    <g id=\"ytick_4\">\r\n     <g id=\"line2d_23\">\r\n      <path clip-path=\"url(#p00df387574)\" d=\"M 89.36625 320.999385 \r\nL 1093.76625 320.999385 \r\n\" style=\"fill:none;stroke:#b0b0b0;stroke-linecap:square;stroke-width:0.8;\"/>\r\n     </g>\r\n     <g id=\"line2d_24\">\r\n      <g>\r\n       <use style=\"stroke:#000000;stroke-width:0.8;\" x=\"89.36625\" xlink:href=\"#m952d731677\" y=\"320.999385\"/>\r\n      </g>\r\n     </g>\r\n     <g id=\"text_13\">\r\n      <!-- 600 -->\r\n      <defs>\r\n       <path d=\"M 33.015625 40.375 \r\nQ 26.375 40.375 22.484375 35.828125 \r\nQ 18.609375 31.296875 18.609375 23.390625 \r\nQ 18.609375 15.53125 22.484375 10.953125 \r\nQ 26.375 6.390625 33.015625 6.390625 \r\nQ 39.65625 6.390625 43.53125 10.953125 \r\nQ 47.40625 15.53125 47.40625 23.390625 \r\nQ 47.40625 31.296875 43.53125 35.828125 \r\nQ 39.65625 40.375 33.015625 40.375 \r\nz\r\nM 52.59375 71.296875 \r\nL 52.59375 62.3125 \r\nQ 48.875 64.0625 45.09375 64.984375 \r\nQ 41.3125 65.921875 37.59375 65.921875 \r\nQ 27.828125 65.921875 22.671875 59.328125 \r\nQ 17.53125 52.734375 16.796875 39.40625 \r\nQ 19.671875 43.65625 24.015625 45.921875 \r\nQ 28.375 48.1875 33.59375 48.1875 \r\nQ 44.578125 48.1875 50.953125 41.515625 \r\nQ 57.328125 34.859375 57.328125 23.390625 \r\nQ 57.328125 12.15625 50.6875 5.359375 \r\nQ 44.046875 -1.421875 33.015625 -1.421875 \r\nQ 20.359375 -1.421875 13.671875 8.265625 \r\nQ 6.984375 17.96875 6.984375 36.375 \r\nQ 6.984375 53.65625 15.1875 63.9375 \r\nQ 23.390625 74.21875 37.203125 74.21875 \r\nQ 40.921875 74.21875 44.703125 73.484375 \r\nQ 48.484375 72.75 52.59375 71.296875 \r\nz\r\n\" id=\"DejaVuSans-54\"/>\r\n      </defs>\r\n      <g transform=\"translate(48.00875 327.837979)scale(0.18 -0.18)\">\r\n       <use xlink:href=\"#DejaVuSans-54\"/>\r\n       <use x=\"63.623047\" xlink:href=\"#DejaVuSans-48\"/>\r\n       <use x=\"127.246094\" xlink:href=\"#DejaVuSans-48\"/>\r\n      </g>\r\n     </g>\r\n    </g>\r\n    <g id=\"ytick_5\">\r\n     <g id=\"line2d_25\">\r\n      <path clip-path=\"url(#p00df387574)\" d=\"M 89.36625 258.268266 \r\nL 1093.76625 258.268266 \r\n\" style=\"fill:none;stroke:#b0b0b0;stroke-linecap:square;stroke-width:0.8;\"/>\r\n     </g>\r\n     <g id=\"line2d_26\">\r\n      <g>\r\n       <use style=\"stroke:#000000;stroke-width:0.8;\" x=\"89.36625\" xlink:href=\"#m952d731677\" y=\"258.268266\"/>\r\n      </g>\r\n     </g>\r\n     <g id=\"text_14\">\r\n      <!-- 800 -->\r\n      <g transform=\"translate(48.00875 265.10686)scale(0.18 -0.18)\">\r\n       <use xlink:href=\"#DejaVuSans-56\"/>\r\n       <use x=\"63.623047\" xlink:href=\"#DejaVuSans-48\"/>\r\n       <use x=\"127.246094\" xlink:href=\"#DejaVuSans-48\"/>\r\n      </g>\r\n     </g>\r\n    </g>\r\n    <g id=\"ytick_6\">\r\n     <g id=\"line2d_27\">\r\n      <path clip-path=\"url(#p00df387574)\" d=\"M 89.36625 195.537147 \r\nL 1093.76625 195.537147 \r\n\" style=\"fill:none;stroke:#b0b0b0;stroke-linecap:square;stroke-width:0.8;\"/>\r\n     </g>\r\n     <g id=\"line2d_28\">\r\n      <g>\r\n       <use style=\"stroke:#000000;stroke-width:0.8;\" x=\"89.36625\" xlink:href=\"#m952d731677\" y=\"195.537147\"/>\r\n      </g>\r\n     </g>\r\n     <g id=\"text_15\">\r\n      <!-- 1000 -->\r\n      <g transform=\"translate(36.55625 202.37574)scale(0.18 -0.18)\">\r\n       <use xlink:href=\"#DejaVuSans-49\"/>\r\n       <use x=\"63.623047\" xlink:href=\"#DejaVuSans-48\"/>\r\n       <use x=\"127.246094\" xlink:href=\"#DejaVuSans-48\"/>\r\n       <use x=\"190.869141\" xlink:href=\"#DejaVuSans-48\"/>\r\n      </g>\r\n     </g>\r\n    </g>\r\n    <g id=\"ytick_7\">\r\n     <g id=\"line2d_29\">\r\n      <path clip-path=\"url(#p00df387574)\" d=\"M 89.36625 132.806027 \r\nL 1093.76625 132.806027 \r\n\" style=\"fill:none;stroke:#b0b0b0;stroke-linecap:square;stroke-width:0.8;\"/>\r\n     </g>\r\n     <g id=\"line2d_30\">\r\n      <g>\r\n       <use style=\"stroke:#000000;stroke-width:0.8;\" x=\"89.36625\" xlink:href=\"#m952d731677\" y=\"132.806027\"/>\r\n      </g>\r\n     </g>\r\n     <g id=\"text_16\">\r\n      <!-- 1200 -->\r\n      <g transform=\"translate(36.55625 139.644621)scale(0.18 -0.18)\">\r\n       <use xlink:href=\"#DejaVuSans-49\"/>\r\n       <use x=\"63.623047\" xlink:href=\"#DejaVuSans-50\"/>\r\n       <use x=\"127.246094\" xlink:href=\"#DejaVuSans-48\"/>\r\n       <use x=\"190.869141\" xlink:href=\"#DejaVuSans-48\"/>\r\n      </g>\r\n     </g>\r\n    </g>\r\n    <g id=\"ytick_8\">\r\n     <g id=\"line2d_31\">\r\n      <path clip-path=\"url(#p00df387574)\" d=\"M 89.36625 70.074908 \r\nL 1093.76625 70.074908 \r\n\" style=\"fill:none;stroke:#b0b0b0;stroke-linecap:square;stroke-width:0.8;\"/>\r\n     </g>\r\n     <g id=\"line2d_32\">\r\n      <g>\r\n       <use style=\"stroke:#000000;stroke-width:0.8;\" x=\"89.36625\" xlink:href=\"#m952d731677\" y=\"70.074908\"/>\r\n      </g>\r\n     </g>\r\n     <g id=\"text_17\">\r\n      <!-- 1400 -->\r\n      <g transform=\"translate(36.55625 76.913502)scale(0.18 -0.18)\">\r\n       <use xlink:href=\"#DejaVuSans-49\"/>\r\n       <use x=\"63.623047\" xlink:href=\"#DejaVuSans-52\"/>\r\n       <use x=\"127.246094\" xlink:href=\"#DejaVuSans-48\"/>\r\n       <use x=\"190.869141\" xlink:href=\"#DejaVuSans-48\"/>\r\n      </g>\r\n     </g>\r\n    </g>\r\n    <g id=\"text_18\">\r\n     <!-- Number of Games -->\r\n     <defs>\r\n      <path d=\"M 9.8125 72.90625 \r\nL 23.09375 72.90625 \r\nL 55.421875 11.921875 \r\nL 55.421875 72.90625 \r\nL 64.984375 72.90625 \r\nL 64.984375 0 \r\nL 51.703125 0 \r\nL 19.390625 60.984375 \r\nL 19.390625 0 \r\nL 9.8125 0 \r\nz\r\n\" id=\"DejaVuSans-78\"/>\r\n      <path d=\"M 8.5 21.578125 \r\nL 8.5 54.6875 \r\nL 17.484375 54.6875 \r\nL 17.484375 21.921875 \r\nQ 17.484375 14.15625 20.5 10.265625 \r\nQ 23.53125 6.390625 29.59375 6.390625 \r\nQ 36.859375 6.390625 41.078125 11.03125 \r\nQ 45.3125 15.671875 45.3125 23.6875 \r\nL 45.3125 54.6875 \r\nL 54.296875 54.6875 \r\nL 54.296875 0 \r\nL 45.3125 0 \r\nL 45.3125 8.40625 \r\nQ 42.046875 3.421875 37.71875 1 \r\nQ 33.40625 -1.421875 27.6875 -1.421875 \r\nQ 18.265625 -1.421875 13.375 4.4375 \r\nQ 8.5 10.296875 8.5 21.578125 \r\nz\r\nM 31.109375 56 \r\nz\r\n\" id=\"DejaVuSans-117\"/>\r\n      <path d=\"M 52 44.1875 \r\nQ 55.375 50.25 60.0625 53.125 \r\nQ 64.75 56 71.09375 56 \r\nQ 79.640625 56 84.28125 50.015625 \r\nQ 88.921875 44.046875 88.921875 33.015625 \r\nL 88.921875 0 \r\nL 79.890625 0 \r\nL 79.890625 32.71875 \r\nQ 79.890625 40.578125 77.09375 44.375 \r\nQ 74.3125 48.1875 68.609375 48.1875 \r\nQ 61.625 48.1875 57.5625 43.546875 \r\nQ 53.515625 38.921875 53.515625 30.90625 \r\nL 53.515625 0 \r\nL 44.484375 0 \r\nL 44.484375 32.71875 \r\nQ 44.484375 40.625 41.703125 44.40625 \r\nQ 38.921875 48.1875 33.109375 48.1875 \r\nQ 26.21875 48.1875 22.15625 43.53125 \r\nQ 18.109375 38.875 18.109375 30.90625 \r\nL 18.109375 0 \r\nL 9.078125 0 \r\nL 9.078125 54.6875 \r\nL 18.109375 54.6875 \r\nL 18.109375 46.1875 \r\nQ 21.1875 51.21875 25.484375 53.609375 \r\nQ 29.78125 56 35.6875 56 \r\nQ 41.65625 56 45.828125 52.96875 \r\nQ 50 49.953125 52 44.1875 \r\nz\r\n\" id=\"DejaVuSans-109\"/>\r\n      <path d=\"M 48.6875 27.296875 \r\nQ 48.6875 37.203125 44.609375 42.84375 \r\nQ 40.53125 48.484375 33.40625 48.484375 \r\nQ 26.265625 48.484375 22.1875 42.84375 \r\nQ 18.109375 37.203125 18.109375 27.296875 \r\nQ 18.109375 17.390625 22.1875 11.75 \r\nQ 26.265625 6.109375 33.40625 6.109375 \r\nQ 40.53125 6.109375 44.609375 11.75 \r\nQ 48.6875 17.390625 48.6875 27.296875 \r\nz\r\nM 18.109375 46.390625 \r\nQ 20.953125 51.265625 25.265625 53.625 \r\nQ 29.59375 56 35.59375 56 \r\nQ 45.5625 56 51.78125 48.09375 \r\nQ 58.015625 40.1875 58.015625 27.296875 \r\nQ 58.015625 14.40625 51.78125 6.484375 \r\nQ 45.5625 -1.421875 35.59375 -1.421875 \r\nQ 29.59375 -1.421875 25.265625 0.953125 \r\nQ 20.953125 3.328125 18.109375 8.203125 \r\nL 18.109375 0 \r\nL 9.078125 0 \r\nL 9.078125 75.984375 \r\nL 18.109375 75.984375 \r\nz\r\n\" id=\"DejaVuSans-98\"/>\r\n      <path id=\"DejaVuSans-32\"/>\r\n      <path d=\"M 30.609375 48.390625 \r\nQ 23.390625 48.390625 19.1875 42.75 \r\nQ 14.984375 37.109375 14.984375 27.296875 \r\nQ 14.984375 17.484375 19.15625 11.84375 \r\nQ 23.34375 6.203125 30.609375 6.203125 \r\nQ 37.796875 6.203125 41.984375 11.859375 \r\nQ 46.1875 17.53125 46.1875 27.296875 \r\nQ 46.1875 37.015625 41.984375 42.703125 \r\nQ 37.796875 48.390625 30.609375 48.390625 \r\nz\r\nM 30.609375 56 \r\nQ 42.328125 56 49.015625 48.375 \r\nQ 55.71875 40.765625 55.71875 27.296875 \r\nQ 55.71875 13.875 49.015625 6.21875 \r\nQ 42.328125 -1.421875 30.609375 -1.421875 \r\nQ 18.84375 -1.421875 12.171875 6.21875 \r\nQ 5.515625 13.875 5.515625 27.296875 \r\nQ 5.515625 40.765625 12.171875 48.375 \r\nQ 18.84375 56 30.609375 56 \r\nz\r\n\" id=\"DejaVuSans-111\"/>\r\n      <path d=\"M 37.109375 75.984375 \r\nL 37.109375 68.5 \r\nL 28.515625 68.5 \r\nQ 23.6875 68.5 21.796875 66.546875 \r\nQ 19.921875 64.59375 19.921875 59.515625 \r\nL 19.921875 54.6875 \r\nL 34.71875 54.6875 \r\nL 34.71875 47.703125 \r\nL 19.921875 47.703125 \r\nL 19.921875 0 \r\nL 10.890625 0 \r\nL 10.890625 47.703125 \r\nL 2.296875 47.703125 \r\nL 2.296875 54.6875 \r\nL 10.890625 54.6875 \r\nL 10.890625 58.5 \r\nQ 10.890625 67.625 15.140625 71.796875 \r\nQ 19.390625 75.984375 28.609375 75.984375 \r\nz\r\n\" id=\"DejaVuSans-102\"/>\r\n      <path d=\"M 59.515625 10.40625 \r\nL 59.515625 29.984375 \r\nL 43.40625 29.984375 \r\nL 43.40625 38.09375 \r\nL 69.28125 38.09375 \r\nL 69.28125 6.78125 \r\nQ 63.578125 2.734375 56.6875 0.65625 \r\nQ 49.8125 -1.421875 42 -1.421875 \r\nQ 24.90625 -1.421875 15.25 8.5625 \r\nQ 5.609375 18.5625 5.609375 36.375 \r\nQ 5.609375 54.25 15.25 64.234375 \r\nQ 24.90625 74.21875 42 74.21875 \r\nQ 49.125 74.21875 55.546875 72.453125 \r\nQ 61.96875 70.703125 67.390625 67.28125 \r\nL 67.390625 56.78125 \r\nQ 61.921875 61.421875 55.765625 63.765625 \r\nQ 49.609375 66.109375 42.828125 66.109375 \r\nQ 29.4375 66.109375 22.71875 58.640625 \r\nQ 16.015625 51.171875 16.015625 36.375 \r\nQ 16.015625 21.625 22.71875 14.15625 \r\nQ 29.4375 6.6875 42.828125 6.6875 \r\nQ 48.046875 6.6875 52.140625 7.59375 \r\nQ 56.25 8.5 59.515625 10.40625 \r\nz\r\n\" id=\"DejaVuSans-71\"/>\r\n      <path d=\"M 44.28125 53.078125 \r\nL 44.28125 44.578125 \r\nQ 40.484375 46.53125 36.375 47.5 \r\nQ 32.28125 48.484375 27.875 48.484375 \r\nQ 21.1875 48.484375 17.84375 46.4375 \r\nQ 14.5 44.390625 14.5 40.28125 \r\nQ 14.5 37.15625 16.890625 35.375 \r\nQ 19.28125 33.59375 26.515625 31.984375 \r\nL 29.59375 31.296875 \r\nQ 39.15625 29.25 43.1875 25.515625 \r\nQ 47.21875 21.78125 47.21875 15.09375 \r\nQ 47.21875 7.46875 41.1875 3.015625 \r\nQ 35.15625 -1.421875 24.609375 -1.421875 \r\nQ 20.21875 -1.421875 15.453125 -0.5625 \r\nQ 10.6875 0.296875 5.421875 2 \r\nL 5.421875 11.28125 \r\nQ 10.40625 8.6875 15.234375 7.390625 \r\nQ 20.0625 6.109375 24.8125 6.109375 \r\nQ 31.15625 6.109375 34.5625 8.28125 \r\nQ 37.984375 10.453125 37.984375 14.40625 \r\nQ 37.984375 18.0625 35.515625 20.015625 \r\nQ 33.0625 21.96875 24.703125 23.78125 \r\nL 21.578125 24.515625 \r\nQ 13.234375 26.265625 9.515625 29.90625 \r\nQ 5.8125 33.546875 5.8125 39.890625 \r\nQ 5.8125 47.609375 11.28125 51.796875 \r\nQ 16.75 56 26.8125 56 \r\nQ 31.78125 56 36.171875 55.265625 \r\nQ 40.578125 54.546875 44.28125 53.078125 \r\nz\r\n\" id=\"DejaVuSans-115\"/>\r\n     </defs>\r\n     <g transform=\"translate(22.396875 375.1349)rotate(-90)scale(0.2 -0.2)\">\r\n      <use xlink:href=\"#DejaVuSans-78\"/>\r\n      <use x=\"74.804688\" xlink:href=\"#DejaVuSans-117\"/>\r\n      <use x=\"138.183594\" xlink:href=\"#DejaVuSans-109\"/>\r\n      <use x=\"235.595703\" xlink:href=\"#DejaVuSans-98\"/>\r\n      <use x=\"299.072266\" xlink:href=\"#DejaVuSans-101\"/>\r\n      <use x=\"360.595703\" xlink:href=\"#DejaVuSans-114\"/>\r\n      <use x=\"401.708984\" xlink:href=\"#DejaVuSans-32\"/>\r\n      <use x=\"433.496094\" xlink:href=\"#DejaVuSans-111\"/>\r\n      <use x=\"494.677734\" xlink:href=\"#DejaVuSans-102\"/>\r\n      <use x=\"529.882812\" xlink:href=\"#DejaVuSans-32\"/>\r\n      <use x=\"561.669922\" xlink:href=\"#DejaVuSans-71\"/>\r\n      <use x=\"639.160156\" xlink:href=\"#DejaVuSans-97\"/>\r\n      <use x=\"700.439453\" xlink:href=\"#DejaVuSans-109\"/>\r\n      <use x=\"797.851562\" xlink:href=\"#DejaVuSans-101\"/>\r\n      <use x=\"859.375\" xlink:href=\"#DejaVuSans-115\"/>\r\n     </g>\r\n    </g>\r\n   </g>\r\n   <g id=\"line2d_33\">\r\n    <path clip-path=\"url(#p00df387574)\" d=\"M 135.020795 506.369843 \r\nL 160.384432 494.764586 \r\nL 185.748068 497.901142 \r\nL 211.111705 503.860598 \r\nL 236.475341 504.801565 \r\nL 261.838977 505.115221 \r\nL 287.202614 502.605976 \r\nL 312.56625 504.174254 \r\nL 337.929886 504.48791 \r\nL 363.293523 503.860598 \r\nL 388.657159 504.174254 \r\nL 414.020795 496.332864 \r\nL 439.384432 495.705553 \r\nL 464.748068 490.373408 \r\nL 490.111705 471.240416 \r\nL 515.475341 440.502168 \r\nL 540.838977 426.701322 \r\nL 566.202614 418.546276 \r\nL 591.56625 390.317272 \r\nL 616.929886 403.177152 \r\nL 642.293523 399.413285 \r\nL 667.657159 358.010746 \r\nL 693.020795 249.172254 \r\nL 718.384432 266.109656 \r\nL 743.748068 270.187179 \r\nL 769.111705 214.670138 \r\nL 794.475341 193.655213 \r\nL 819.838977 133.746994 \r\nL 845.202614 61.606207 \r\nL 870.56625 61.919862 \r\nL 895.929886 115.554969 \r\nL 921.293523 152.879986 \r\nL 946.657159 304.375639 \r\nL 972.020795 338.564099 \r\nL 997.384432 326.958842 \r\nL 1022.748068 319.117452 \r\nL 1048.111705 351.737634 \r\n\" style=\"fill:none;stroke:#1f77b4;stroke-linecap:square;stroke-width:2;\"/>\r\n    <defs>\r\n     <path d=\"M 0 3 \r\nC 0.795609 3 1.55874 2.683901 2.12132 2.12132 \r\nC 2.683901 1.55874 3 0.795609 3 0 \r\nC 3 -0.795609 2.683901 -1.55874 2.12132 -2.12132 \r\nC 1.55874 -2.683901 0.795609 -3 0 -3 \r\nC -0.795609 -3 -1.55874 -2.683901 -2.12132 -2.12132 \r\nC -2.683901 -1.55874 -3 -0.795609 -3 0 \r\nC -3 0.795609 -2.683901 1.55874 -2.12132 2.12132 \r\nC -1.55874 2.683901 -0.795609 3 0 3 \r\nz\r\n\" id=\"m91d3a860f7\" style=\"stroke:#1f77b4;\"/>\r\n    </defs>\r\n    <g clip-path=\"url(#p00df387574)\">\r\n     <use style=\"fill:#1f77b4;stroke:#1f77b4;\" x=\"135.020795\" xlink:href=\"#m91d3a860f7\" y=\"506.369843\"/>\r\n     <use style=\"fill:#1f77b4;stroke:#1f77b4;\" x=\"160.384432\" xlink:href=\"#m91d3a860f7\" y=\"494.764586\"/>\r\n     <use style=\"fill:#1f77b4;stroke:#1f77b4;\" x=\"185.748068\" xlink:href=\"#m91d3a860f7\" y=\"497.901142\"/>\r\n     <use style=\"fill:#1f77b4;stroke:#1f77b4;\" x=\"211.111705\" xlink:href=\"#m91d3a860f7\" y=\"503.860598\"/>\r\n     <use style=\"fill:#1f77b4;stroke:#1f77b4;\" x=\"236.475341\" xlink:href=\"#m91d3a860f7\" y=\"504.801565\"/>\r\n     <use style=\"fill:#1f77b4;stroke:#1f77b4;\" x=\"261.838977\" xlink:href=\"#m91d3a860f7\" y=\"505.115221\"/>\r\n     <use style=\"fill:#1f77b4;stroke:#1f77b4;\" x=\"287.202614\" xlink:href=\"#m91d3a860f7\" y=\"502.605976\"/>\r\n     <use style=\"fill:#1f77b4;stroke:#1f77b4;\" x=\"312.56625\" xlink:href=\"#m91d3a860f7\" y=\"504.174254\"/>\r\n     <use style=\"fill:#1f77b4;stroke:#1f77b4;\" x=\"337.929886\" xlink:href=\"#m91d3a860f7\" y=\"504.48791\"/>\r\n     <use style=\"fill:#1f77b4;stroke:#1f77b4;\" x=\"363.293523\" xlink:href=\"#m91d3a860f7\" y=\"503.860598\"/>\r\n     <use style=\"fill:#1f77b4;stroke:#1f77b4;\" x=\"388.657159\" xlink:href=\"#m91d3a860f7\" y=\"504.174254\"/>\r\n     <use style=\"fill:#1f77b4;stroke:#1f77b4;\" x=\"414.020795\" xlink:href=\"#m91d3a860f7\" y=\"496.332864\"/>\r\n     <use style=\"fill:#1f77b4;stroke:#1f77b4;\" x=\"439.384432\" xlink:href=\"#m91d3a860f7\" y=\"495.705553\"/>\r\n     <use style=\"fill:#1f77b4;stroke:#1f77b4;\" x=\"464.748068\" xlink:href=\"#m91d3a860f7\" y=\"490.373408\"/>\r\n     <use style=\"fill:#1f77b4;stroke:#1f77b4;\" x=\"490.111705\" xlink:href=\"#m91d3a860f7\" y=\"471.240416\"/>\r\n     <use style=\"fill:#1f77b4;stroke:#1f77b4;\" x=\"515.475341\" xlink:href=\"#m91d3a860f7\" y=\"440.502168\"/>\r\n     <use style=\"fill:#1f77b4;stroke:#1f77b4;\" x=\"540.838977\" xlink:href=\"#m91d3a860f7\" y=\"426.701322\"/>\r\n     <use style=\"fill:#1f77b4;stroke:#1f77b4;\" x=\"566.202614\" xlink:href=\"#m91d3a860f7\" y=\"418.546276\"/>\r\n     <use style=\"fill:#1f77b4;stroke:#1f77b4;\" x=\"591.56625\" xlink:href=\"#m91d3a860f7\" y=\"390.317272\"/>\r\n     <use style=\"fill:#1f77b4;stroke:#1f77b4;\" x=\"616.929886\" xlink:href=\"#m91d3a860f7\" y=\"403.177152\"/>\r\n     <use style=\"fill:#1f77b4;stroke:#1f77b4;\" x=\"642.293523\" xlink:href=\"#m91d3a860f7\" y=\"399.413285\"/>\r\n     <use style=\"fill:#1f77b4;stroke:#1f77b4;\" x=\"667.657159\" xlink:href=\"#m91d3a860f7\" y=\"358.010746\"/>\r\n     <use style=\"fill:#1f77b4;stroke:#1f77b4;\" x=\"693.020795\" xlink:href=\"#m91d3a860f7\" y=\"249.172254\"/>\r\n     <use style=\"fill:#1f77b4;stroke:#1f77b4;\" x=\"718.384432\" xlink:href=\"#m91d3a860f7\" y=\"266.109656\"/>\r\n     <use style=\"fill:#1f77b4;stroke:#1f77b4;\" x=\"743.748068\" xlink:href=\"#m91d3a860f7\" y=\"270.187179\"/>\r\n     <use style=\"fill:#1f77b4;stroke:#1f77b4;\" x=\"769.111705\" xlink:href=\"#m91d3a860f7\" y=\"214.670138\"/>\r\n     <use style=\"fill:#1f77b4;stroke:#1f77b4;\" x=\"794.475341\" xlink:href=\"#m91d3a860f7\" y=\"193.655213\"/>\r\n     <use style=\"fill:#1f77b4;stroke:#1f77b4;\" x=\"819.838977\" xlink:href=\"#m91d3a860f7\" y=\"133.746994\"/>\r\n     <use style=\"fill:#1f77b4;stroke:#1f77b4;\" x=\"845.202614\" xlink:href=\"#m91d3a860f7\" y=\"61.606207\"/>\r\n     <use style=\"fill:#1f77b4;stroke:#1f77b4;\" x=\"870.56625\" xlink:href=\"#m91d3a860f7\" y=\"61.919862\"/>\r\n     <use style=\"fill:#1f77b4;stroke:#1f77b4;\" x=\"895.929886\" xlink:href=\"#m91d3a860f7\" y=\"115.554969\"/>\r\n     <use style=\"fill:#1f77b4;stroke:#1f77b4;\" x=\"921.293523\" xlink:href=\"#m91d3a860f7\" y=\"152.879986\"/>\r\n     <use style=\"fill:#1f77b4;stroke:#1f77b4;\" x=\"946.657159\" xlink:href=\"#m91d3a860f7\" y=\"304.375639\"/>\r\n     <use style=\"fill:#1f77b4;stroke:#1f77b4;\" x=\"972.020795\" xlink:href=\"#m91d3a860f7\" y=\"338.564099\"/>\r\n     <use style=\"fill:#1f77b4;stroke:#1f77b4;\" x=\"997.384432\" xlink:href=\"#m91d3a860f7\" y=\"326.958842\"/>\r\n     <use style=\"fill:#1f77b4;stroke:#1f77b4;\" x=\"1022.748068\" xlink:href=\"#m91d3a860f7\" y=\"319.117452\"/>\r\n     <use style=\"fill:#1f77b4;stroke:#1f77b4;\" x=\"1048.111705\" xlink:href=\"#m91d3a860f7\" y=\"351.737634\"/>\r\n    </g>\r\n   </g>\r\n   <g id=\"patch_3\">\r\n    <path d=\"M 89.36625 528.608025 \r\nL 89.36625 39.368025 \r\n\" style=\"fill:none;stroke:#000000;stroke-linecap:square;stroke-linejoin:miter;stroke-width:0.8;\"/>\r\n   </g>\r\n   <g id=\"patch_4\">\r\n    <path d=\"M 1093.76625 528.608025 \r\nL 1093.76625 39.368025 \r\n\" style=\"fill:none;stroke:#000000;stroke-linecap:square;stroke-linejoin:miter;stroke-width:0.8;\"/>\r\n   </g>\r\n   <g id=\"patch_5\">\r\n    <path d=\"M 89.36625 528.608025 \r\nL 1093.76625 528.608025 \r\n\" style=\"fill:none;stroke:#000000;stroke-linecap:square;stroke-linejoin:miter;stroke-width:0.8;\"/>\r\n   </g>\r\n   <g id=\"patch_6\">\r\n    <path d=\"M 89.36625 39.368025 \r\nL 1093.76625 39.368025 \r\n\" style=\"fill:none;stroke:#000000;stroke-linecap:square;stroke-linejoin:miter;stroke-width:0.8;\"/>\r\n   </g>\r\n   <g id=\"text_19\">\r\n    <!-- Games per Year -->\r\n    <defs>\r\n     <path d=\"M 18.109375 8.203125 \r\nL 18.109375 -20.796875 \r\nL 9.078125 -20.796875 \r\nL 9.078125 54.6875 \r\nL 18.109375 54.6875 \r\nL 18.109375 46.390625 \r\nQ 20.953125 51.265625 25.265625 53.625 \r\nQ 29.59375 56 35.59375 56 \r\nQ 45.5625 56 51.78125 48.09375 \r\nQ 58.015625 40.1875 58.015625 27.296875 \r\nQ 58.015625 14.40625 51.78125 6.484375 \r\nQ 45.5625 -1.421875 35.59375 -1.421875 \r\nQ 29.59375 -1.421875 25.265625 0.953125 \r\nQ 20.953125 3.328125 18.109375 8.203125 \r\nz\r\nM 48.6875 27.296875 \r\nQ 48.6875 37.203125 44.609375 42.84375 \r\nQ 40.53125 48.484375 33.40625 48.484375 \r\nQ 26.265625 48.484375 22.1875 42.84375 \r\nQ 18.109375 37.203125 18.109375 27.296875 \r\nQ 18.109375 17.390625 22.1875 11.75 \r\nQ 26.265625 6.109375 33.40625 6.109375 \r\nQ 40.53125 6.109375 44.609375 11.75 \r\nQ 48.6875 17.390625 48.6875 27.296875 \r\nz\r\n\" id=\"DejaVuSans-112\"/>\r\n    </defs>\r\n    <g transform=\"translate(480.793438 28.475625)scale(0.28 -0.28)\">\r\n     <use xlink:href=\"#DejaVuSans-71\"/>\r\n     <use x=\"77.490234\" xlink:href=\"#DejaVuSans-97\"/>\r\n     <use x=\"138.769531\" xlink:href=\"#DejaVuSans-109\"/>\r\n     <use x=\"236.181641\" xlink:href=\"#DejaVuSans-101\"/>\r\n     <use x=\"297.705078\" xlink:href=\"#DejaVuSans-115\"/>\r\n     <use x=\"349.804688\" xlink:href=\"#DejaVuSans-32\"/>\r\n     <use x=\"381.591797\" xlink:href=\"#DejaVuSans-112\"/>\r\n     <use x=\"445.068359\" xlink:href=\"#DejaVuSans-101\"/>\r\n     <use x=\"506.591797\" xlink:href=\"#DejaVuSans-114\"/>\r\n     <use x=\"547.705078\" xlink:href=\"#DejaVuSans-32\"/>\r\n     <use x=\"579.492188\" xlink:href=\"#DejaVuSans-89\"/>\r\n     <use x=\"627.326172\" xlink:href=\"#DejaVuSans-101\"/>\r\n     <use x=\"688.849609\" xlink:href=\"#DejaVuSans-97\"/>\r\n     <use x=\"750.128906\" xlink:href=\"#DejaVuSans-114\"/>\r\n    </g>\r\n   </g>\r\n  </g>\r\n </g>\r\n <defs>\r\n  <clipPath id=\"p00df387574\">\r\n   <rect height=\"489.24\" width=\"1004.4\" x=\"89.36625\" y=\"39.368025\"/>\r\n  </clipPath>\r\n </defs>\r\n</svg>\r\n",
      "image/png": "[encoded data removed]"
     },
     "metadata": {
      "needs_background": "light"
     }
    }
   ],
   "source": [
    "games_per_year.plot(style='o-', figsize=(18, 9), linewidth=2, grid=True) # 'o-': connected scatter plot\n",
    "plt.title(\"Games per Year\", fontsize=28, y=1.01)\n",
    "plt.yticks(fontsize = 18)\n",
    "plt.xticks(fontsize = 18)\n",
    "plt.xlabel(\"Year\", fontsize=20, labelpad=10)\n",
    "plt.ylabel(\"Number of Games\", fontsize=20, labelpad=10)\n",
    "plt.show()"
   ]
  },
  {
   "cell_type": "markdown",
   "metadata": {},
   "source": [
    "### Conclusion\n",
    "\n",
    "We can see that the number of games has been continually increasing. There was a peak in 2008-2009 and a significant slope right after which was at the time of of the <a href=\"https://en.wikipedia.org/wiki/Financial_crisis_of_2007%E2%80%932008\">recession</a>, which affected the video game industry as well as other industries."
   ]
  },
  {
   "cell_type": "markdown",
   "metadata": {},
   "source": [
    "## B. Top Platforms\n",
    "\n",
    "<a id=\"graphique2\"></a>"
   ]
  },
  {
   "cell_type": "code",
   "execution_count": 831,
   "metadata": {},
   "outputs": [
    {
     "output_type": "execute_result",
     "data": {
      "text/plain": "platform\nPS2     1233.56\nX360     961.24\nPS3      931.34\nWii      891.18\nDS       802.76\nName: total_sales, dtype: float64"
     },
     "metadata": {},
     "execution_count": 831
    }
   ],
   "source": [
    "# Top 5 platforms with the greatest total sales\n",
    "top_5 = df.groupby('platform')['total_sales'].sum().sort_values(ascending=False).head()\n",
    "top_5"
   ]
  },
  {
   "cell_type": "code",
   "execution_count": 832,
   "metadata": {},
   "outputs": [
    {
     "output_type": "display_data",
     "data": {
      "application/vnd.plotly.v1+json": {
       "config": {
        "plotlyServerURL": "https://plot.ly"
       },
       "data": [
        {
         "domain": {
          "x": [
           0,
           1
          ],
          "y": [
           0,
           1
          ]
         },
         "hovertemplate": "label=%{label}<br>total_sales=%{value}<extra></extra>",
         "labels": [
          "PS2",
          "X360",
          "PS3",
          "Wii",
          "DS"
         ],
         "legendgroup": "",
         "name": "",
         "showlegend": true,
         "type": "pie",
         "values": [
          1233.559999999989,
          961.2399999999982,
          931.3399999999984,
          891.179999999996,
          802.7599999999852
         ]
        }
       ],
       "layout": {
        "legend": {
         "tracegroupgap": 0
        },
        "template": {
         "data": {
          "bar": [
           {
            "error_x": {
             "color": "#2a3f5f"
            },
            "error_y": {
             "color": "#2a3f5f"
            },
            "marker": {
             "line": {
              "color": "#E5ECF6",
              "width": 0.5
             }
            },
            "type": "bar"
           }
          ],
          "barpolar": [
           {
            "marker": {
             "line": {
              "color": "#E5ECF6",
              "width": 0.5
             }
            },
            "type": "barpolar"
           }
          ],
          "carpet": [
           {
            "aaxis": {
             "endlinecolor": "#2a3f5f",
             "gridcolor": "white",
             "linecolor": "white",
             "minorgridcolor": "white",
             "startlinecolor": "#2a3f5f"
            },
            "baxis": {
             "endlinecolor": "#2a3f5f",
             "gridcolor": "white",
             "linecolor": "white",
             "minorgridcolor": "white",
             "startlinecolor": "#2a3f5f"
            },
            "type": "carpet"
           }
          ],
          "choropleth": [
           {
            "colorbar": {
             "outlinewidth": 0,
             "ticks": ""
            },
            "type": "choropleth"
           }
          ],
          "contour": [
           {
            "colorbar": {
             "outlinewidth": 0,
             "ticks": ""
            },
            "colorscale": [
             [
              0,
              "#0d0887"
             ],
             [
              0.1111111111111111,
              "#46039f"
             ],
             [
              0.2222222222222222,
              "#7201a8"
             ],
             [
              0.3333333333333333,
              "#9c179e"
             ],
             [
              0.4444444444444444,
              "#bd3786"
             ],
             [
              0.5555555555555556,
              "#d8576b"
             ],
             [
              0.6666666666666666,
              "#ed7953"
             ],
             [
              0.7777777777777778,
              "#fb9f3a"
             ],
             [
              0.8888888888888888,
              "#fdca26"
             ],
             [
              1,
              "#f0f921"
             ]
            ],
            "type": "contour"
           }
          ],
          "contourcarpet": [
           {
            "colorbar": {
             "outlinewidth": 0,
             "ticks": ""
            },
            "type": "contourcarpet"
           }
          ],
          "heatmap": [
           {
            "colorbar": {
             "outlinewidth": 0,
             "ticks": ""
            },
            "colorscale": [
             [
              0,
              "#0d0887"
             ],
             [
              0.1111111111111111,
              "#46039f"
             ],
             [
              0.2222222222222222,
              "#7201a8"
             ],
             [
              0.3333333333333333,
              "#9c179e"
             ],
             [
              0.4444444444444444,
              "#bd3786"
             ],
             [
              0.5555555555555556,
              "#d8576b"
             ],
             [
              0.6666666666666666,
              "#ed7953"
             ],
             [
              0.7777777777777778,
              "#fb9f3a"
             ],
             [
              0.8888888888888888,
              "#fdca26"
             ],
             [
              1,
              "#f0f921"
             ]
            ],
            "type": "heatmap"
           }
          ],
          "heatmapgl": [
           {
            "colorbar": {
             "outlinewidth": 0,
             "ticks": ""
            },
            "colorscale": [
             [
              0,
              "#0d0887"
             ],
             [
              0.1111111111111111,
              "#46039f"
             ],
             [
              0.2222222222222222,
              "#7201a8"
             ],
             [
              0.3333333333333333,
              "#9c179e"
             ],
             [
              0.4444444444444444,
              "#bd3786"
             ],
             [
              0.5555555555555556,
              "#d8576b"
             ],
             [
              0.6666666666666666,
              "#ed7953"
             ],
             [
              0.7777777777777778,
              "#fb9f3a"
             ],
             [
              0.8888888888888888,
              "#fdca26"
             ],
             [
              1,
              "#f0f921"
             ]
            ],
            "type": "heatmapgl"
           }
          ],
          "histogram": [
           {
            "marker": {
             "colorbar": {
              "outlinewidth": 0,
              "ticks": ""
             }
            },
            "type": "histogram"
           }
          ],
          "histogram2d": [
           {
            "colorbar": {
             "outlinewidth": 0,
             "ticks": ""
            },
            "colorscale": [
             [
              0,
              "#0d0887"
             ],
             [
              0.1111111111111111,
              "#46039f"
             ],
             [
              0.2222222222222222,
              "#7201a8"
             ],
             [
              0.3333333333333333,
              "#9c179e"
             ],
             [
              0.4444444444444444,
              "#bd3786"
             ],
             [
              0.5555555555555556,
              "#d8576b"
             ],
             [
              0.6666666666666666,
              "#ed7953"
             ],
             [
              0.7777777777777778,
              "#fb9f3a"
             ],
             [
              0.8888888888888888,
              "#fdca26"
             ],
             [
              1,
              "#f0f921"
             ]
            ],
            "type": "histogram2d"
           }
          ],
          "histogram2dcontour": [
           {
            "colorbar": {
             "outlinewidth": 0,
             "ticks": ""
            },
            "colorscale": [
             [
              0,
              "#0d0887"
             ],
             [
              0.1111111111111111,
              "#46039f"
             ],
             [
              0.2222222222222222,
              "#7201a8"
             ],
             [
              0.3333333333333333,
              "#9c179e"
             ],
             [
              0.4444444444444444,
              "#bd3786"
             ],
             [
              0.5555555555555556,
              "#d8576b"
             ],
             [
              0.6666666666666666,
              "#ed7953"
             ],
             [
              0.7777777777777778,
              "#fb9f3a"
             ],
             [
              0.8888888888888888,
              "#fdca26"
             ],
             [
              1,
              "#f0f921"
             ]
            ],
            "type": "histogram2dcontour"
           }
          ],
          "mesh3d": [
           {
            "colorbar": {
             "outlinewidth": 0,
             "ticks": ""
            },
            "type": "mesh3d"
           }
          ],
          "parcoords": [
           {
            "line": {
             "colorbar": {
              "outlinewidth": 0,
              "ticks": ""
             }
            },
            "type": "parcoords"
           }
          ],
          "pie": [
           {
            "automargin": true,
            "type": "pie"
           }
          ],
          "scatter": [
           {
            "marker": {
             "colorbar": {
              "outlinewidth": 0,
              "ticks": ""
             }
            },
            "type": "scatter"
           }
          ],
          "scatter3d": [
           {
            "line": {
             "colorbar": {
              "outlinewidth": 0,
              "ticks": ""
             }
            },
            "marker": {
             "colorbar": {
              "outlinewidth": 0,
              "ticks": ""
             }
            },
            "type": "scatter3d"
           }
          ],
          "scattercarpet": [
           {
            "marker": {
             "colorbar": {
              "outlinewidth": 0,
              "ticks": ""
             }
            },
            "type": "scattercarpet"
           }
          ],
          "scattergeo": [
           {
            "marker": {
             "colorbar": {
              "outlinewidth": 0,
              "ticks": ""
             }
            },
            "type": "scattergeo"
           }
          ],
          "scattergl": [
           {
            "marker": {
             "colorbar": {
              "outlinewidth": 0,
              "ticks": ""
             }
            },
            "type": "scattergl"
           }
          ],
          "scattermapbox": [
           {
            "marker": {
             "colorbar": {
              "outlinewidth": 0,
              "ticks": ""
             }
            },
            "type": "scattermapbox"
           }
          ],
          "scatterpolar": [
           {
            "marker": {
             "colorbar": {
              "outlinewidth": 0,
              "ticks": ""
             }
            },
            "type": "scatterpolar"
           }
          ],
          "scatterpolargl": [
           {
            "marker": {
             "colorbar": {
              "outlinewidth": 0,
              "ticks": ""
             }
            },
            "type": "scatterpolargl"
           }
          ],
          "scatterternary": [
           {
            "marker": {
             "colorbar": {
              "outlinewidth": 0,
              "ticks": ""
             }
            },
            "type": "scatterternary"
           }
          ],
          "surface": [
           {
            "colorbar": {
             "outlinewidth": 0,
             "ticks": ""
            },
            "colorscale": [
             [
              0,
              "#0d0887"
             ],
             [
              0.1111111111111111,
              "#46039f"
             ],
             [
              0.2222222222222222,
              "#7201a8"
             ],
             [
              0.3333333333333333,
              "#9c179e"
             ],
             [
              0.4444444444444444,
              "#bd3786"
             ],
             [
              0.5555555555555556,
              "#d8576b"
             ],
             [
              0.6666666666666666,
              "#ed7953"
             ],
             [
              0.7777777777777778,
              "#fb9f3a"
             ],
             [
              0.8888888888888888,
              "#fdca26"
             ],
             [
              1,
              "#f0f921"
             ]
            ],
            "type": "surface"
           }
          ],
          "table": [
           {
            "cells": {
             "fill": {
              "color": "#EBF0F8"
             },
             "line": {
              "color": "white"
             }
            },
            "header": {
             "fill": {
              "color": "#C8D4E3"
             },
             "line": {
              "color": "white"
             }
            },
            "type": "table"
           }
          ]
         },
         "layout": {
          "annotationdefaults": {
           "arrowcolor": "#2a3f5f",
           "arrowhead": 0,
           "arrowwidth": 1
          },
          "coloraxis": {
           "colorbar": {
            "outlinewidth": 0,
            "ticks": ""
           }
          },
          "colorscale": {
           "diverging": [
            [
             0,
             "#8e0152"
            ],
            [
             0.1,
             "#c51b7d"
            ],
            [
             0.2,
             "#de77ae"
            ],
            [
             0.3,
             "#f1b6da"
            ],
            [
             0.4,
             "#fde0ef"
            ],
            [
             0.5,
             "#f7f7f7"
            ],
            [
             0.6,
             "#e6f5d0"
            ],
            [
             0.7,
             "#b8e186"
            ],
            [
             0.8,
             "#7fbc41"
            ],
            [
             0.9,
             "#4d9221"
            ],
            [
             1,
             "#276419"
            ]
           ],
           "sequential": [
            [
             0,
             "#0d0887"
            ],
            [
             0.1111111111111111,
             "#46039f"
            ],
            [
             0.2222222222222222,
             "#7201a8"
            ],
            [
             0.3333333333333333,
             "#9c179e"
            ],
            [
             0.4444444444444444,
             "#bd3786"
            ],
            [
             0.5555555555555556,
             "#d8576b"
            ],
            [
             0.6666666666666666,
             "#ed7953"
            ],
            [
             0.7777777777777778,
             "#fb9f3a"
            ],
            [
             0.8888888888888888,
             "#fdca26"
            ],
            [
             1,
             "#f0f921"
            ]
           ],
           "sequentialminus": [
            [
             0,
             "#0d0887"
            ],
            [
             0.1111111111111111,
             "#46039f"
            ],
            [
             0.2222222222222222,
             "#7201a8"
            ],
            [
             0.3333333333333333,
             "#9c179e"
            ],
            [
             0.4444444444444444,
             "#bd3786"
            ],
            [
             0.5555555555555556,
             "#d8576b"
            ],
            [
             0.6666666666666666,
             "#ed7953"
            ],
            [
             0.7777777777777778,
             "#fb9f3a"
            ],
            [
             0.8888888888888888,
             "#fdca26"
            ],
            [
             1,
             "#f0f921"
            ]
           ]
          },
          "colorway": [
           "#636efa",
           "#EF553B",
           "#00cc96",
           "#ab63fa",
           "#FFA15A",
           "#19d3f3",
           "#FF6692",
           "#B6E880",
           "#FF97FF",
           "#FECB52"
          ],
          "font": {
           "color": "#2a3f5f"
          },
          "geo": {
           "bgcolor": "white",
           "lakecolor": "white",
           "landcolor": "#E5ECF6",
           "showlakes": true,
           "showland": true,
           "subunitcolor": "white"
          },
          "hoverlabel": {
           "align": "left"
          },
          "hovermode": "closest",
          "mapbox": {
           "style": "light"
          },
          "paper_bgcolor": "white",
          "plot_bgcolor": "#E5ECF6",
          "polar": {
           "angularaxis": {
            "gridcolor": "white",
            "linecolor": "white",
            "ticks": ""
           },
           "bgcolor": "#E5ECF6",
           "radialaxis": {
            "gridcolor": "white",
            "linecolor": "white",
            "ticks": ""
           }
          },
          "scene": {
           "xaxis": {
            "backgroundcolor": "#E5ECF6",
            "gridcolor": "white",
            "gridwidth": 2,
            "linecolor": "white",
            "showbackground": true,
            "ticks": "",
            "zerolinecolor": "white"
           },
           "yaxis": {
            "backgroundcolor": "#E5ECF6",
            "gridcolor": "white",
            "gridwidth": 2,
            "linecolor": "white",
            "showbackground": true,
            "ticks": "",
            "zerolinecolor": "white"
           },
           "zaxis": {
            "backgroundcolor": "#E5ECF6",
            "gridcolor": "white",
            "gridwidth": 2,
            "linecolor": "white",
            "showbackground": true,
            "ticks": "",
            "zerolinecolor": "white"
           }
          },
          "shapedefaults": {
           "line": {
            "color": "#2a3f5f"
           }
          },
          "ternary": {
           "aaxis": {
            "gridcolor": "white",
            "linecolor": "white",
            "ticks": ""
           },
           "baxis": {
            "gridcolor": "white",
            "linecolor": "white",
            "ticks": ""
           },
           "bgcolor": "#E5ECF6",
           "caxis": {
            "gridcolor": "white",
            "linecolor": "white",
            "ticks": ""
           }
          },
          "title": {
           "x": 0.05
          },
          "xaxis": {
           "automargin": true,
           "gridcolor": "white",
           "linecolor": "white",
           "ticks": "",
           "title": {
            "standoff": 15
           },
           "zerolinecolor": "white",
           "zerolinewidth": 2
          },
          "yaxis": {
           "automargin": true,
           "gridcolor": "white",
           "linecolor": "white",
           "ticks": "",
           "title": {
            "standoff": 15
           },
           "zerolinecolor": "white",
           "zerolinewidth": 2
          }
         }
        },
        "title": {
         "text": "Top Platforms by Total Sales"
        }
       }
      }
     },
     "metadata": {}
    }
   ],
   "source": [
    "platform_names = ['PS2', 'X360', 'PS3', 'Wii', 'DS']\n",
    "fig = px.pie(top_5, values='total_sales', names=platform_names, title='Top Platforms by Total Sales')\n",
    "fig.show()"
   ]
  },
  {
   "cell_type": "code",
   "execution_count": 833,
   "metadata": {
    "tags": []
   },
   "outputs": [
    {
     "output_type": "display_data",
     "data": {
      "text/plain": "<Figure size 864x432 with 1 Axes>",
      "image/svg+xml": "<?xml version=\"1.0\" encoding=\"utf-8\" standalone=\"no\"?>\r\n<!DOCTYPE svg PUBLIC \"-//W3C//DTD SVG 1.1//EN\"\r\n  \"http://www.w3.org/Graphics/SVG/1.1/DTD/svg11.dtd\">\r\n<!-- Created with matplotlib (https://matplotlib.org/) -->\r\n<svg height=\"424.8741pt\" version=\"1.1\" viewBox=\"0 0 754.71375 424.8741\" width=\"754.71375pt\" xmlns=\"http://www.w3.org/2000/svg\" xmlns:xlink=\"http://www.w3.org/1999/xlink\">\r\n <defs>\r\n  <style type=\"text/css\">\r\n*{stroke-linecap:butt;stroke-linejoin:round;}\r\n  </style>\r\n </defs>\r\n <g id=\"figure_1\">\r\n  <g id=\"patch_1\">\r\n   <path d=\"M -0 424.8741 \r\nL 754.71375 424.8741 \r\nL 754.71375 0 \r\nL -0 0 \r\nz\r\n\" style=\"fill:none;\"/>\r\n  </g>\r\n  <g id=\"axes_1\">\r\n   <g id=\"patch_2\">\r\n    <path d=\"M 77.91375 363.897225 \r\nL 747.51375 363.897225 \r\nL 747.51375 37.737225 \r\nL 77.91375 37.737225 \r\nz\r\n\" style=\"fill:#ffffff;\"/>\r\n   </g>\r\n   <g id=\"matplotlib.axis_1\">\r\n    <g id=\"xtick_1\">\r\n     <g id=\"line2d_1\">\r\n      <path clip-path=\"url(#pe898ef9ea6)\" d=\"M 108.350114 363.897225 \r\nL 108.350114 37.737225 \r\n\" style=\"fill:none;stroke:#b0b0b0;stroke-linecap:square;stroke-width:0.8;\"/>\r\n     </g>\r\n     <g id=\"line2d_2\">\r\n      <defs>\r\n       <path d=\"M 0 0 \r\nL 0 3.5 \r\n\" id=\"m8506a053d5\" style=\"stroke:#000000;stroke-width:0.8;\"/>\r\n      </defs>\r\n      <g>\r\n       <use style=\"stroke:#000000;stroke-width:0.8;\" x=\"108.350114\" xlink:href=\"#m8506a053d5\" y=\"363.897225\"/>\r\n      </g>\r\n     </g>\r\n     <g id=\"text_1\">\r\n      <!-- 2000 -->\r\n      <defs>\r\n       <path d=\"M 19.1875 8.296875 \r\nL 53.609375 8.296875 \r\nL 53.609375 0 \r\nL 7.328125 0 \r\nL 7.328125 8.296875 \r\nQ 12.9375 14.109375 22.625 23.890625 \r\nQ 32.328125 33.6875 34.8125 36.53125 \r\nQ 39.546875 41.84375 41.421875 45.53125 \r\nQ 43.3125 49.21875 43.3125 52.78125 \r\nQ 43.3125 58.59375 39.234375 62.25 \r\nQ 35.15625 65.921875 28.609375 65.921875 \r\nQ 23.96875 65.921875 18.8125 64.3125 \r\nQ 13.671875 62.703125 7.8125 59.421875 \r\nL 7.8125 69.390625 \r\nQ 13.765625 71.78125 18.9375 73 \r\nQ 24.125 74.21875 28.421875 74.21875 \r\nQ 39.75 74.21875 46.484375 68.546875 \r\nQ 53.21875 62.890625 53.21875 53.421875 \r\nQ 53.21875 48.921875 51.53125 44.890625 \r\nQ 49.859375 40.875 45.40625 35.40625 \r\nQ 44.1875 33.984375 37.640625 27.21875 \r\nQ 31.109375 20.453125 19.1875 8.296875 \r\nz\r\n\" id=\"DejaVuSans-50\"/>\r\n       <path d=\"M 31.78125 66.40625 \r\nQ 24.171875 66.40625 20.328125 58.90625 \r\nQ 16.5 51.421875 16.5 36.375 \r\nQ 16.5 21.390625 20.328125 13.890625 \r\nQ 24.171875 6.390625 31.78125 6.390625 \r\nQ 39.453125 6.390625 43.28125 13.890625 \r\nQ 47.125 21.390625 47.125 36.375 \r\nQ 47.125 51.421875 43.28125 58.90625 \r\nQ 39.453125 66.40625 31.78125 66.40625 \r\nz\r\nM 31.78125 74.21875 \r\nQ 44.046875 74.21875 50.515625 64.515625 \r\nQ 56.984375 54.828125 56.984375 36.375 \r\nQ 56.984375 17.96875 50.515625 8.265625 \r\nQ 44.046875 -1.421875 31.78125 -1.421875 \r\nQ 19.53125 -1.421875 13.0625 8.265625 \r\nQ 6.59375 17.96875 6.59375 36.375 \r\nQ 6.59375 54.828125 13.0625 64.515625 \r\nQ 19.53125 74.21875 31.78125 74.21875 \r\nz\r\n\" id=\"DejaVuSans-48\"/>\r\n      </defs>\r\n      <g transform=\"translate(85.445114 384.574412)scale(0.18 -0.18)\">\r\n       <use xlink:href=\"#DejaVuSans-50\"/>\r\n       <use x=\"63.623047\" xlink:href=\"#DejaVuSans-48\"/>\r\n       <use x=\"127.246094\" xlink:href=\"#DejaVuSans-48\"/>\r\n       <use x=\"190.869141\" xlink:href=\"#DejaVuSans-48\"/>\r\n      </g>\r\n     </g>\r\n    </g>\r\n    <g id=\"xtick_2\">\r\n     <g id=\"line2d_3\">\r\n      <path clip-path=\"url(#pe898ef9ea6)\" d=\"M 184.441023 363.897225 \r\nL 184.441023 37.737225 \r\n\" style=\"fill:none;stroke:#b0b0b0;stroke-linecap:square;stroke-width:0.8;\"/>\r\n     </g>\r\n     <g id=\"line2d_4\">\r\n      <g>\r\n       <use style=\"stroke:#000000;stroke-width:0.8;\" x=\"184.441023\" xlink:href=\"#m8506a053d5\" y=\"363.897225\"/>\r\n      </g>\r\n     </g>\r\n     <g id=\"text_2\">\r\n      <!-- 2002 -->\r\n      <g transform=\"translate(161.536023 384.574412)scale(0.18 -0.18)\">\r\n       <use xlink:href=\"#DejaVuSans-50\"/>\r\n       <use x=\"63.623047\" xlink:href=\"#DejaVuSans-48\"/>\r\n       <use x=\"127.246094\" xlink:href=\"#DejaVuSans-48\"/>\r\n       <use x=\"190.869141\" xlink:href=\"#DejaVuSans-50\"/>\r\n      </g>\r\n     </g>\r\n    </g>\r\n    <g id=\"xtick_3\">\r\n     <g id=\"line2d_5\">\r\n      <path clip-path=\"url(#pe898ef9ea6)\" d=\"M 260.531932 363.897225 \r\nL 260.531932 37.737225 \r\n\" style=\"fill:none;stroke:#b0b0b0;stroke-linecap:square;stroke-width:0.8;\"/>\r\n     </g>\r\n     <g id=\"line2d_6\">\r\n      <g>\r\n       <use style=\"stroke:#000000;stroke-width:0.8;\" x=\"260.531932\" xlink:href=\"#m8506a053d5\" y=\"363.897225\"/>\r\n      </g>\r\n     </g>\r\n     <g id=\"text_3\">\r\n      <!-- 2004 -->\r\n      <defs>\r\n       <path d=\"M 37.796875 64.3125 \r\nL 12.890625 25.390625 \r\nL 37.796875 25.390625 \r\nz\r\nM 35.203125 72.90625 \r\nL 47.609375 72.90625 \r\nL 47.609375 25.390625 \r\nL 58.015625 25.390625 \r\nL 58.015625 17.1875 \r\nL 47.609375 17.1875 \r\nL 47.609375 0 \r\nL 37.796875 0 \r\nL 37.796875 17.1875 \r\nL 4.890625 17.1875 \r\nL 4.890625 26.703125 \r\nz\r\n\" id=\"DejaVuSans-52\"/>\r\n      </defs>\r\n      <g transform=\"translate(237.626932 384.574412)scale(0.18 -0.18)\">\r\n       <use xlink:href=\"#DejaVuSans-50\"/>\r\n       <use x=\"63.623047\" xlink:href=\"#DejaVuSans-48\"/>\r\n       <use x=\"127.246094\" xlink:href=\"#DejaVuSans-48\"/>\r\n       <use x=\"190.869141\" xlink:href=\"#DejaVuSans-52\"/>\r\n      </g>\r\n     </g>\r\n    </g>\r\n    <g id=\"xtick_4\">\r\n     <g id=\"line2d_7\">\r\n      <path clip-path=\"url(#pe898ef9ea6)\" d=\"M 336.622841 363.897225 \r\nL 336.622841 37.737225 \r\n\" style=\"fill:none;stroke:#b0b0b0;stroke-linecap:square;stroke-width:0.8;\"/>\r\n     </g>\r\n     <g id=\"line2d_8\">\r\n      <g>\r\n       <use style=\"stroke:#000000;stroke-width:0.8;\" x=\"336.622841\" xlink:href=\"#m8506a053d5\" y=\"363.897225\"/>\r\n      </g>\r\n     </g>\r\n     <g id=\"text_4\">\r\n      <!-- 2006 -->\r\n      <defs>\r\n       <path d=\"M 33.015625 40.375 \r\nQ 26.375 40.375 22.484375 35.828125 \r\nQ 18.609375 31.296875 18.609375 23.390625 \r\nQ 18.609375 15.53125 22.484375 10.953125 \r\nQ 26.375 6.390625 33.015625 6.390625 \r\nQ 39.65625 6.390625 43.53125 10.953125 \r\nQ 47.40625 15.53125 47.40625 23.390625 \r\nQ 47.40625 31.296875 43.53125 35.828125 \r\nQ 39.65625 40.375 33.015625 40.375 \r\nz\r\nM 52.59375 71.296875 \r\nL 52.59375 62.3125 \r\nQ 48.875 64.0625 45.09375 64.984375 \r\nQ 41.3125 65.921875 37.59375 65.921875 \r\nQ 27.828125 65.921875 22.671875 59.328125 \r\nQ 17.53125 52.734375 16.796875 39.40625 \r\nQ 19.671875 43.65625 24.015625 45.921875 \r\nQ 28.375 48.1875 33.59375 48.1875 \r\nQ 44.578125 48.1875 50.953125 41.515625 \r\nQ 57.328125 34.859375 57.328125 23.390625 \r\nQ 57.328125 12.15625 50.6875 5.359375 \r\nQ 44.046875 -1.421875 33.015625 -1.421875 \r\nQ 20.359375 -1.421875 13.671875 8.265625 \r\nQ 6.984375 17.96875 6.984375 36.375 \r\nQ 6.984375 53.65625 15.1875 63.9375 \r\nQ 23.390625 74.21875 37.203125 74.21875 \r\nQ 40.921875 74.21875 44.703125 73.484375 \r\nQ 48.484375 72.75 52.59375 71.296875 \r\nz\r\n\" id=\"DejaVuSans-54\"/>\r\n      </defs>\r\n      <g transform=\"translate(313.717841 384.574412)scale(0.18 -0.18)\">\r\n       <use xlink:href=\"#DejaVuSans-50\"/>\r\n       <use x=\"63.623047\" xlink:href=\"#DejaVuSans-48\"/>\r\n       <use x=\"127.246094\" xlink:href=\"#DejaVuSans-48\"/>\r\n       <use x=\"190.869141\" xlink:href=\"#DejaVuSans-54\"/>\r\n      </g>\r\n     </g>\r\n    </g>\r\n    <g id=\"xtick_5\">\r\n     <g id=\"line2d_9\">\r\n      <path clip-path=\"url(#pe898ef9ea6)\" d=\"M 412.71375 363.897225 \r\nL 412.71375 37.737225 \r\n\" style=\"fill:none;stroke:#b0b0b0;stroke-linecap:square;stroke-width:0.8;\"/>\r\n     </g>\r\n     <g id=\"line2d_10\">\r\n      <g>\r\n       <use style=\"stroke:#000000;stroke-width:0.8;\" x=\"412.71375\" xlink:href=\"#m8506a053d5\" y=\"363.897225\"/>\r\n      </g>\r\n     </g>\r\n     <g id=\"text_5\">\r\n      <!-- 2008 -->\r\n      <defs>\r\n       <path d=\"M 31.78125 34.625 \r\nQ 24.75 34.625 20.71875 30.859375 \r\nQ 16.703125 27.09375 16.703125 20.515625 \r\nQ 16.703125 13.921875 20.71875 10.15625 \r\nQ 24.75 6.390625 31.78125 6.390625 \r\nQ 38.8125 6.390625 42.859375 10.171875 \r\nQ 46.921875 13.96875 46.921875 20.515625 \r\nQ 46.921875 27.09375 42.890625 30.859375 \r\nQ 38.875 34.625 31.78125 34.625 \r\nz\r\nM 21.921875 38.8125 \r\nQ 15.578125 40.375 12.03125 44.71875 \r\nQ 8.5 49.078125 8.5 55.328125 \r\nQ 8.5 64.0625 14.71875 69.140625 \r\nQ 20.953125 74.21875 31.78125 74.21875 \r\nQ 42.671875 74.21875 48.875 69.140625 \r\nQ 55.078125 64.0625 55.078125 55.328125 \r\nQ 55.078125 49.078125 51.53125 44.71875 \r\nQ 48 40.375 41.703125 38.8125 \r\nQ 48.828125 37.15625 52.796875 32.3125 \r\nQ 56.78125 27.484375 56.78125 20.515625 \r\nQ 56.78125 9.90625 50.3125 4.234375 \r\nQ 43.84375 -1.421875 31.78125 -1.421875 \r\nQ 19.734375 -1.421875 13.25 4.234375 \r\nQ 6.78125 9.90625 6.78125 20.515625 \r\nQ 6.78125 27.484375 10.78125 32.3125 \r\nQ 14.796875 37.15625 21.921875 38.8125 \r\nz\r\nM 18.3125 54.390625 \r\nQ 18.3125 48.734375 21.84375 45.5625 \r\nQ 25.390625 42.390625 31.78125 42.390625 \r\nQ 38.140625 42.390625 41.71875 45.5625 \r\nQ 45.3125 48.734375 45.3125 54.390625 \r\nQ 45.3125 60.0625 41.71875 63.234375 \r\nQ 38.140625 66.40625 31.78125 66.40625 \r\nQ 25.390625 66.40625 21.84375 63.234375 \r\nQ 18.3125 60.0625 18.3125 54.390625 \r\nz\r\n\" id=\"DejaVuSans-56\"/>\r\n      </defs>\r\n      <g transform=\"translate(389.80875 384.574412)scale(0.18 -0.18)\">\r\n       <use xlink:href=\"#DejaVuSans-50\"/>\r\n       <use x=\"63.623047\" xlink:href=\"#DejaVuSans-48\"/>\r\n       <use x=\"127.246094\" xlink:href=\"#DejaVuSans-48\"/>\r\n       <use x=\"190.869141\" xlink:href=\"#DejaVuSans-56\"/>\r\n      </g>\r\n     </g>\r\n    </g>\r\n    <g id=\"xtick_6\">\r\n     <g id=\"line2d_11\">\r\n      <path clip-path=\"url(#pe898ef9ea6)\" d=\"M 488.804659 363.897225 \r\nL 488.804659 37.737225 \r\n\" style=\"fill:none;stroke:#b0b0b0;stroke-linecap:square;stroke-width:0.8;\"/>\r\n     </g>\r\n     <g id=\"line2d_12\">\r\n      <g>\r\n       <use style=\"stroke:#000000;stroke-width:0.8;\" x=\"488.804659\" xlink:href=\"#m8506a053d5\" y=\"363.897225\"/>\r\n      </g>\r\n     </g>\r\n     <g id=\"text_6\">\r\n      <!-- 2010 -->\r\n      <defs>\r\n       <path d=\"M 12.40625 8.296875 \r\nL 28.515625 8.296875 \r\nL 28.515625 63.921875 \r\nL 10.984375 60.40625 \r\nL 10.984375 69.390625 \r\nL 28.421875 72.90625 \r\nL 38.28125 72.90625 \r\nL 38.28125 8.296875 \r\nL 54.390625 8.296875 \r\nL 54.390625 0 \r\nL 12.40625 0 \r\nz\r\n\" id=\"DejaVuSans-49\"/>\r\n      </defs>\r\n      <g transform=\"translate(465.899659 384.574412)scale(0.18 -0.18)\">\r\n       <use xlink:href=\"#DejaVuSans-50\"/>\r\n       <use x=\"63.623047\" xlink:href=\"#DejaVuSans-48\"/>\r\n       <use x=\"127.246094\" xlink:href=\"#DejaVuSans-49\"/>\r\n       <use x=\"190.869141\" xlink:href=\"#DejaVuSans-48\"/>\r\n      </g>\r\n     </g>\r\n    </g>\r\n    <g id=\"xtick_7\">\r\n     <g id=\"line2d_13\">\r\n      <path clip-path=\"url(#pe898ef9ea6)\" d=\"M 564.895568 363.897225 \r\nL 564.895568 37.737225 \r\n\" style=\"fill:none;stroke:#b0b0b0;stroke-linecap:square;stroke-width:0.8;\"/>\r\n     </g>\r\n     <g id=\"line2d_14\">\r\n      <g>\r\n       <use style=\"stroke:#000000;stroke-width:0.8;\" x=\"564.895568\" xlink:href=\"#m8506a053d5\" y=\"363.897225\"/>\r\n      </g>\r\n     </g>\r\n     <g id=\"text_7\">\r\n      <!-- 2012 -->\r\n      <g transform=\"translate(541.990568 384.574412)scale(0.18 -0.18)\">\r\n       <use xlink:href=\"#DejaVuSans-50\"/>\r\n       <use x=\"63.623047\" xlink:href=\"#DejaVuSans-48\"/>\r\n       <use x=\"127.246094\" xlink:href=\"#DejaVuSans-49\"/>\r\n       <use x=\"190.869141\" xlink:href=\"#DejaVuSans-50\"/>\r\n      </g>\r\n     </g>\r\n    </g>\r\n    <g id=\"xtick_8\">\r\n     <g id=\"line2d_15\">\r\n      <path clip-path=\"url(#pe898ef9ea6)\" d=\"M 640.986477 363.897225 \r\nL 640.986477 37.737225 \r\n\" style=\"fill:none;stroke:#b0b0b0;stroke-linecap:square;stroke-width:0.8;\"/>\r\n     </g>\r\n     <g id=\"line2d_16\">\r\n      <g>\r\n       <use style=\"stroke:#000000;stroke-width:0.8;\" x=\"640.986477\" xlink:href=\"#m8506a053d5\" y=\"363.897225\"/>\r\n      </g>\r\n     </g>\r\n     <g id=\"text_8\">\r\n      <!-- 2014 -->\r\n      <g transform=\"translate(618.081477 384.574412)scale(0.18 -0.18)\">\r\n       <use xlink:href=\"#DejaVuSans-50\"/>\r\n       <use x=\"63.623047\" xlink:href=\"#DejaVuSans-48\"/>\r\n       <use x=\"127.246094\" xlink:href=\"#DejaVuSans-49\"/>\r\n       <use x=\"190.869141\" xlink:href=\"#DejaVuSans-52\"/>\r\n      </g>\r\n     </g>\r\n    </g>\r\n    <g id=\"xtick_9\">\r\n     <g id=\"line2d_17\">\r\n      <path clip-path=\"url(#pe898ef9ea6)\" d=\"M 717.077386 363.897225 \r\nL 717.077386 37.737225 \r\n\" style=\"fill:none;stroke:#b0b0b0;stroke-linecap:square;stroke-width:0.8;\"/>\r\n     </g>\r\n     <g id=\"line2d_18\">\r\n      <g>\r\n       <use style=\"stroke:#000000;stroke-width:0.8;\" x=\"717.077386\" xlink:href=\"#m8506a053d5\" y=\"363.897225\"/>\r\n      </g>\r\n     </g>\r\n     <g id=\"text_9\">\r\n      <!-- 2016 -->\r\n      <g transform=\"translate(694.172386 384.574412)scale(0.18 -0.18)\">\r\n       <use xlink:href=\"#DejaVuSans-50\"/>\r\n       <use x=\"63.623047\" xlink:href=\"#DejaVuSans-48\"/>\r\n       <use x=\"127.246094\" xlink:href=\"#DejaVuSans-49\"/>\r\n       <use x=\"190.869141\" xlink:href=\"#DejaVuSans-54\"/>\r\n      </g>\r\n     </g>\r\n    </g>\r\n    <g id=\"text_10\">\r\n     <!-- Year -->\r\n     <defs>\r\n      <path d=\"M -0.203125 72.90625 \r\nL 10.40625 72.90625 \r\nL 30.609375 42.921875 \r\nL 50.6875 72.90625 \r\nL 61.28125 72.90625 \r\nL 35.5 34.71875 \r\nL 35.5 0 \r\nL 25.59375 0 \r\nL 25.59375 34.71875 \r\nz\r\n\" id=\"DejaVuSans-89\"/>\r\n      <path d=\"M 56.203125 29.59375 \r\nL 56.203125 25.203125 \r\nL 14.890625 25.203125 \r\nQ 15.484375 15.921875 20.484375 11.0625 \r\nQ 25.484375 6.203125 34.421875 6.203125 \r\nQ 39.59375 6.203125 44.453125 7.46875 \r\nQ 49.3125 8.734375 54.109375 11.28125 \r\nL 54.109375 2.78125 \r\nQ 49.265625 0.734375 44.1875 -0.34375 \r\nQ 39.109375 -1.421875 33.890625 -1.421875 \r\nQ 20.796875 -1.421875 13.15625 6.1875 \r\nQ 5.515625 13.8125 5.515625 26.8125 \r\nQ 5.515625 40.234375 12.765625 48.109375 \r\nQ 20.015625 56 32.328125 56 \r\nQ 43.359375 56 49.78125 48.890625 \r\nQ 56.203125 41.796875 56.203125 29.59375 \r\nz\r\nM 47.21875 32.234375 \r\nQ 47.125 39.59375 43.09375 43.984375 \r\nQ 39.0625 48.390625 32.421875 48.390625 \r\nQ 24.90625 48.390625 20.390625 44.140625 \r\nQ 15.875 39.890625 15.1875 32.171875 \r\nz\r\n\" id=\"DejaVuSans-101\"/>\r\n      <path d=\"M 34.28125 27.484375 \r\nQ 23.390625 27.484375 19.1875 25 \r\nQ 14.984375 22.515625 14.984375 16.5 \r\nQ 14.984375 11.71875 18.140625 8.90625 \r\nQ 21.296875 6.109375 26.703125 6.109375 \r\nQ 34.1875 6.109375 38.703125 11.40625 \r\nQ 43.21875 16.703125 43.21875 25.484375 \r\nL 43.21875 27.484375 \r\nz\r\nM 52.203125 31.203125 \r\nL 52.203125 0 \r\nL 43.21875 0 \r\nL 43.21875 8.296875 \r\nQ 40.140625 3.328125 35.546875 0.953125 \r\nQ 30.953125 -1.421875 24.3125 -1.421875 \r\nQ 15.921875 -1.421875 10.953125 3.296875 \r\nQ 6 8.015625 6 15.921875 \r\nQ 6 25.140625 12.171875 29.828125 \r\nQ 18.359375 34.515625 30.609375 34.515625 \r\nL 43.21875 34.515625 \r\nL 43.21875 35.40625 \r\nQ 43.21875 41.609375 39.140625 45 \r\nQ 35.0625 48.390625 27.6875 48.390625 \r\nQ 23 48.390625 18.546875 47.265625 \r\nQ 14.109375 46.140625 10.015625 43.890625 \r\nL 10.015625 52.203125 \r\nQ 14.9375 54.109375 19.578125 55.046875 \r\nQ 24.21875 56 28.609375 56 \r\nQ 40.484375 56 46.34375 49.84375 \r\nQ 52.203125 43.703125 52.203125 31.203125 \r\nz\r\n\" id=\"DejaVuSans-97\"/>\r\n      <path d=\"M 41.109375 46.296875 \r\nQ 39.59375 47.171875 37.8125 47.578125 \r\nQ 36.03125 48 33.890625 48 \r\nQ 26.265625 48 22.1875 43.046875 \r\nQ 18.109375 38.09375 18.109375 28.8125 \r\nL 18.109375 0 \r\nL 9.078125 0 \r\nL 9.078125 54.6875 \r\nL 18.109375 54.6875 \r\nL 18.109375 46.1875 \r\nQ 20.953125 51.171875 25.484375 53.578125 \r\nQ 30.03125 56 36.53125 56 \r\nQ 37.453125 56 38.578125 55.875 \r\nQ 39.703125 55.765625 41.0625 55.515625 \r\nz\r\n\" id=\"DejaVuSans-114\"/>\r\n     </defs>\r\n     <g transform=\"translate(391.53875 413.514725)scale(0.2 -0.2)\">\r\n      <use xlink:href=\"#DejaVuSans-89\"/>\r\n      <use x=\"47.833984\" xlink:href=\"#DejaVuSans-101\"/>\r\n      <use x=\"109.357422\" xlink:href=\"#DejaVuSans-97\"/>\r\n      <use x=\"170.636719\" xlink:href=\"#DejaVuSans-114\"/>\r\n     </g>\r\n    </g>\r\n   </g>\r\n   <g id=\"matplotlib.axis_2\">\r\n    <g id=\"ytick_1\">\r\n     <g id=\"line2d_19\">\r\n      <path clip-path=\"url(#pe898ef9ea6)\" d=\"M 77.91375 349.323964 \r\nL 747.51375 349.323964 \r\n\" style=\"fill:none;stroke:#b0b0b0;stroke-linecap:square;stroke-width:0.8;\"/>\r\n     </g>\r\n     <g id=\"line2d_20\">\r\n      <defs>\r\n       <path d=\"M 0 0 \r\nL -3.5 0 \r\n\" id=\"m0ab4aa1460\" style=\"stroke:#000000;stroke-width:0.8;\"/>\r\n      </defs>\r\n      <g>\r\n       <use style=\"stroke:#000000;stroke-width:0.8;\" x=\"77.91375\" xlink:href=\"#m0ab4aa1460\" y=\"349.323964\"/>\r\n      </g>\r\n     </g>\r\n     <g id=\"text_11\">\r\n      <!-- 0 -->\r\n      <g transform=\"translate(59.46125 356.162557)scale(0.18 -0.18)\">\r\n       <use xlink:href=\"#DejaVuSans-48\"/>\r\n      </g>\r\n     </g>\r\n    </g>\r\n    <g id=\"ytick_2\">\r\n     <g id=\"line2d_21\">\r\n      <path clip-path=\"url(#pe898ef9ea6)\" d=\"M 77.91375 279.270311 \r\nL 747.51375 279.270311 \r\n\" style=\"fill:none;stroke:#b0b0b0;stroke-linecap:square;stroke-width:0.8;\"/>\r\n     </g>\r\n     <g id=\"line2d_22\">\r\n      <g>\r\n       <use style=\"stroke:#000000;stroke-width:0.8;\" x=\"77.91375\" xlink:href=\"#m0ab4aa1460\" y=\"279.270311\"/>\r\n      </g>\r\n     </g>\r\n     <g id=\"text_12\">\r\n      <!-- 50 -->\r\n      <defs>\r\n       <path d=\"M 10.796875 72.90625 \r\nL 49.515625 72.90625 \r\nL 49.515625 64.59375 \r\nL 19.828125 64.59375 \r\nL 19.828125 46.734375 \r\nQ 21.96875 47.46875 24.109375 47.828125 \r\nQ 26.265625 48.1875 28.421875 48.1875 \r\nQ 40.625 48.1875 47.75 41.5 \r\nQ 54.890625 34.8125 54.890625 23.390625 \r\nQ 54.890625 11.625 47.5625 5.09375 \r\nQ 40.234375 -1.421875 26.90625 -1.421875 \r\nQ 22.3125 -1.421875 17.546875 -0.640625 \r\nQ 12.796875 0.140625 7.71875 1.703125 \r\nL 7.71875 11.625 \r\nQ 12.109375 9.234375 16.796875 8.0625 \r\nQ 21.484375 6.890625 26.703125 6.890625 \r\nQ 35.15625 6.890625 40.078125 11.328125 \r\nQ 45.015625 15.765625 45.015625 23.390625 \r\nQ 45.015625 31 40.078125 35.4375 \r\nQ 35.15625 39.890625 26.703125 39.890625 \r\nQ 22.75 39.890625 18.8125 39.015625 \r\nQ 14.890625 38.140625 10.796875 36.28125 \r\nz\r\n\" id=\"DejaVuSans-53\"/>\r\n      </defs>\r\n      <g transform=\"translate(48.00875 286.108905)scale(0.18 -0.18)\">\r\n       <use xlink:href=\"#DejaVuSans-53\"/>\r\n       <use x=\"63.623047\" xlink:href=\"#DejaVuSans-48\"/>\r\n      </g>\r\n     </g>\r\n    </g>\r\n    <g id=\"ytick_3\">\r\n     <g id=\"line2d_23\">\r\n      <path clip-path=\"url(#pe898ef9ea6)\" d=\"M 77.91375 209.216658 \r\nL 747.51375 209.216658 \r\n\" style=\"fill:none;stroke:#b0b0b0;stroke-linecap:square;stroke-width:0.8;\"/>\r\n     </g>\r\n     <g id=\"line2d_24\">\r\n      <g>\r\n       <use style=\"stroke:#000000;stroke-width:0.8;\" x=\"77.91375\" xlink:href=\"#m0ab4aa1460\" y=\"209.216658\"/>\r\n      </g>\r\n     </g>\r\n     <g id=\"text_13\">\r\n      <!-- 100 -->\r\n      <g transform=\"translate(36.55625 216.055252)scale(0.18 -0.18)\">\r\n       <use xlink:href=\"#DejaVuSans-49\"/>\r\n       <use x=\"63.623047\" xlink:href=\"#DejaVuSans-48\"/>\r\n       <use x=\"127.246094\" xlink:href=\"#DejaVuSans-48\"/>\r\n      </g>\r\n     </g>\r\n    </g>\r\n    <g id=\"ytick_4\">\r\n     <g id=\"line2d_25\">\r\n      <path clip-path=\"url(#pe898ef9ea6)\" d=\"M 77.91375 139.163005 \r\nL 747.51375 139.163005 \r\n\" style=\"fill:none;stroke:#b0b0b0;stroke-linecap:square;stroke-width:0.8;\"/>\r\n     </g>\r\n     <g id=\"line2d_26\">\r\n      <g>\r\n       <use style=\"stroke:#000000;stroke-width:0.8;\" x=\"77.91375\" xlink:href=\"#m0ab4aa1460\" y=\"139.163005\"/>\r\n      </g>\r\n     </g>\r\n     <g id=\"text_14\">\r\n      <!-- 150 -->\r\n      <g transform=\"translate(36.55625 146.001599)scale(0.18 -0.18)\">\r\n       <use xlink:href=\"#DejaVuSans-49\"/>\r\n       <use x=\"63.623047\" xlink:href=\"#DejaVuSans-53\"/>\r\n       <use x=\"127.246094\" xlink:href=\"#DejaVuSans-48\"/>\r\n      </g>\r\n     </g>\r\n    </g>\r\n    <g id=\"ytick_5\">\r\n     <g id=\"line2d_27\">\r\n      <path clip-path=\"url(#pe898ef9ea6)\" d=\"M 77.91375 69.109352 \r\nL 747.51375 69.109352 \r\n\" style=\"fill:none;stroke:#b0b0b0;stroke-linecap:square;stroke-width:0.8;\"/>\r\n     </g>\r\n     <g id=\"line2d_28\">\r\n      <g>\r\n       <use style=\"stroke:#000000;stroke-width:0.8;\" x=\"77.91375\" xlink:href=\"#m0ab4aa1460\" y=\"69.109352\"/>\r\n      </g>\r\n     </g>\r\n     <g id=\"text_15\">\r\n      <!-- 200 -->\r\n      <g transform=\"translate(36.55625 75.947946)scale(0.18 -0.18)\">\r\n       <use xlink:href=\"#DejaVuSans-50\"/>\r\n       <use x=\"63.623047\" xlink:href=\"#DejaVuSans-48\"/>\r\n       <use x=\"127.246094\" xlink:href=\"#DejaVuSans-48\"/>\r\n      </g>\r\n     </g>\r\n    </g>\r\n    <g id=\"text_16\">\r\n     <!-- Total Sales -->\r\n     <defs>\r\n      <path d=\"M -0.296875 72.90625 \r\nL 61.375 72.90625 \r\nL 61.375 64.59375 \r\nL 35.5 64.59375 \r\nL 35.5 0 \r\nL 25.59375 0 \r\nL 25.59375 64.59375 \r\nL -0.296875 64.59375 \r\nz\r\n\" id=\"DejaVuSans-84\"/>\r\n      <path d=\"M 30.609375 48.390625 \r\nQ 23.390625 48.390625 19.1875 42.75 \r\nQ 14.984375 37.109375 14.984375 27.296875 \r\nQ 14.984375 17.484375 19.15625 11.84375 \r\nQ 23.34375 6.203125 30.609375 6.203125 \r\nQ 37.796875 6.203125 41.984375 11.859375 \r\nQ 46.1875 17.53125 46.1875 27.296875 \r\nQ 46.1875 37.015625 41.984375 42.703125 \r\nQ 37.796875 48.390625 30.609375 48.390625 \r\nz\r\nM 30.609375 56 \r\nQ 42.328125 56 49.015625 48.375 \r\nQ 55.71875 40.765625 55.71875 27.296875 \r\nQ 55.71875 13.875 49.015625 6.21875 \r\nQ 42.328125 -1.421875 30.609375 -1.421875 \r\nQ 18.84375 -1.421875 12.171875 6.21875 \r\nQ 5.515625 13.875 5.515625 27.296875 \r\nQ 5.515625 40.765625 12.171875 48.375 \r\nQ 18.84375 56 30.609375 56 \r\nz\r\n\" id=\"DejaVuSans-111\"/>\r\n      <path d=\"M 18.3125 70.21875 \r\nL 18.3125 54.6875 \r\nL 36.8125 54.6875 \r\nL 36.8125 47.703125 \r\nL 18.3125 47.703125 \r\nL 18.3125 18.015625 \r\nQ 18.3125 11.328125 20.140625 9.421875 \r\nQ 21.96875 7.515625 27.59375 7.515625 \r\nL 36.8125 7.515625 \r\nL 36.8125 0 \r\nL 27.59375 0 \r\nQ 17.1875 0 13.234375 3.875 \r\nQ 9.28125 7.765625 9.28125 18.015625 \r\nL 9.28125 47.703125 \r\nL 2.6875 47.703125 \r\nL 2.6875 54.6875 \r\nL 9.28125 54.6875 \r\nL 9.28125 70.21875 \r\nz\r\n\" id=\"DejaVuSans-116\"/>\r\n      <path d=\"M 9.421875 75.984375 \r\nL 18.40625 75.984375 \r\nL 18.40625 0 \r\nL 9.421875 0 \r\nz\r\n\" id=\"DejaVuSans-108\"/>\r\n      <path id=\"DejaVuSans-32\"/>\r\n      <path d=\"M 53.515625 70.515625 \r\nL 53.515625 60.890625 \r\nQ 47.90625 63.578125 42.921875 64.890625 \r\nQ 37.9375 66.21875 33.296875 66.21875 \r\nQ 25.25 66.21875 20.875 63.09375 \r\nQ 16.5 59.96875 16.5 54.203125 \r\nQ 16.5 49.359375 19.40625 46.890625 \r\nQ 22.3125 44.4375 30.421875 42.921875 \r\nL 36.375 41.703125 \r\nQ 47.40625 39.59375 52.65625 34.296875 \r\nQ 57.90625 29 57.90625 20.125 \r\nQ 57.90625 9.515625 50.796875 4.046875 \r\nQ 43.703125 -1.421875 29.984375 -1.421875 \r\nQ 24.8125 -1.421875 18.96875 -0.25 \r\nQ 13.140625 0.921875 6.890625 3.21875 \r\nL 6.890625 13.375 \r\nQ 12.890625 10.015625 18.65625 8.296875 \r\nQ 24.421875 6.59375 29.984375 6.59375 \r\nQ 38.421875 6.59375 43.015625 9.90625 \r\nQ 47.609375 13.234375 47.609375 19.390625 \r\nQ 47.609375 24.75 44.3125 27.78125 \r\nQ 41.015625 30.8125 33.5 32.328125 \r\nL 27.484375 33.5 \r\nQ 16.453125 35.6875 11.515625 40.375 \r\nQ 6.59375 45.0625 6.59375 53.421875 \r\nQ 6.59375 63.09375 13.40625 68.65625 \r\nQ 20.21875 74.21875 32.171875 74.21875 \r\nQ 37.3125 74.21875 42.625 73.28125 \r\nQ 47.953125 72.359375 53.515625 70.515625 \r\nz\r\n\" id=\"DejaVuSans-83\"/>\r\n      <path d=\"M 44.28125 53.078125 \r\nL 44.28125 44.578125 \r\nQ 40.484375 46.53125 36.375 47.5 \r\nQ 32.28125 48.484375 27.875 48.484375 \r\nQ 21.1875 48.484375 17.84375 46.4375 \r\nQ 14.5 44.390625 14.5 40.28125 \r\nQ 14.5 37.15625 16.890625 35.375 \r\nQ 19.28125 33.59375 26.515625 31.984375 \r\nL 29.59375 31.296875 \r\nQ 39.15625 29.25 43.1875 25.515625 \r\nQ 47.21875 21.78125 47.21875 15.09375 \r\nQ 47.21875 7.46875 41.1875 3.015625 \r\nQ 35.15625 -1.421875 24.609375 -1.421875 \r\nQ 20.21875 -1.421875 15.453125 -0.5625 \r\nQ 10.6875 0.296875 5.421875 2 \r\nL 5.421875 11.28125 \r\nQ 10.40625 8.6875 15.234375 7.390625 \r\nQ 20.0625 6.109375 24.8125 6.109375 \r\nQ 31.15625 6.109375 34.5625 8.28125 \r\nQ 37.984375 10.453125 37.984375 14.40625 \r\nQ 37.984375 18.0625 35.515625 20.015625 \r\nQ 33.0625 21.96875 24.703125 23.78125 \r\nL 21.578125 24.515625 \r\nQ 13.234375 26.265625 9.515625 29.90625 \r\nQ 5.8125 33.546875 5.8125 39.890625 \r\nQ 5.8125 47.609375 11.28125 51.796875 \r\nQ 16.75 56 26.8125 56 \r\nQ 31.78125 56 36.171875 55.265625 \r\nQ 40.578125 54.546875 44.28125 53.078125 \r\nz\r\n\" id=\"DejaVuSans-115\"/>\r\n     </defs>\r\n     <g transform=\"translate(22.396875 253.965662)rotate(-90)scale(0.2 -0.2)\">\r\n      <use xlink:href=\"#DejaVuSans-84\"/>\r\n      <use x=\"44.083984\" xlink:href=\"#DejaVuSans-111\"/>\r\n      <use x=\"105.265625\" xlink:href=\"#DejaVuSans-116\"/>\r\n      <use x=\"144.474609\" xlink:href=\"#DejaVuSans-97\"/>\r\n      <use x=\"205.753906\" xlink:href=\"#DejaVuSans-108\"/>\r\n      <use x=\"233.537109\" xlink:href=\"#DejaVuSans-32\"/>\r\n      <use x=\"265.324219\" xlink:href=\"#DejaVuSans-83\"/>\r\n      <use x=\"328.800781\" xlink:href=\"#DejaVuSans-97\"/>\r\n      <use x=\"390.080078\" xlink:href=\"#DejaVuSans-108\"/>\r\n      <use x=\"417.863281\" xlink:href=\"#DejaVuSans-101\"/>\r\n      <use x=\"479.386719\" xlink:href=\"#DejaVuSans-115\"/>\r\n     </g>\r\n    </g>\r\n   </g>\r\n   <g id=\"line2d_29\">\r\n    <path clip-path=\"url(#pe898ef9ea6)\" d=\"M 108.350114 294.443932 \r\nL 146.395568 116.143375 \r\nL 184.441023 61.571579 \r\nL 222.486477 91.092189 \r\nL 260.531932 52.56268 \r\nL 298.577386 124.227566 \r\nL 336.622841 204.424988 \r\nL 374.668295 242.856422 \r\nL 412.71375 273.806126 \r\nL 450.759205 312.335635 \r\nL 488.804659 341.421912 \r\nL 526.850114 348.693481 \r\n\" style=\"fill:none;stroke:#1f77b4;stroke-linecap:square;stroke-width:2;\"/>\r\n    <defs>\r\n     <path d=\"M 0 3 \r\nC 0.795609 3 1.55874 2.683901 2.12132 2.12132 \r\nC 2.683901 1.55874 3 0.795609 3 0 \r\nC 3 -0.795609 2.683901 -1.55874 2.12132 -2.12132 \r\nC 1.55874 -2.683901 0.795609 -3 0 -3 \r\nC -0.795609 -3 -1.55874 -2.683901 -2.12132 -2.12132 \r\nC -2.683901 -1.55874 -3 -0.795609 -3 0 \r\nC -3 0.795609 -2.683901 1.55874 -2.12132 2.12132 \r\nC -1.55874 2.683901 -0.795609 3 0 3 \r\nz\r\n\" id=\"m69742b82e9\" style=\"stroke:#1f77b4;\"/>\r\n    </defs>\r\n    <g clip-path=\"url(#pe898ef9ea6)\">\r\n     <use style=\"fill:#1f77b4;stroke:#1f77b4;\" x=\"108.350114\" xlink:href=\"#m69742b82e9\" y=\"294.443932\"/>\r\n     <use style=\"fill:#1f77b4;stroke:#1f77b4;\" x=\"146.395568\" xlink:href=\"#m69742b82e9\" y=\"116.143375\"/>\r\n     <use style=\"fill:#1f77b4;stroke:#1f77b4;\" x=\"184.441023\" xlink:href=\"#m69742b82e9\" y=\"61.571579\"/>\r\n     <use style=\"fill:#1f77b4;stroke:#1f77b4;\" x=\"222.486477\" xlink:href=\"#m69742b82e9\" y=\"91.092189\"/>\r\n     <use style=\"fill:#1f77b4;stroke:#1f77b4;\" x=\"260.531932\" xlink:href=\"#m69742b82e9\" y=\"52.56268\"/>\r\n     <use style=\"fill:#1f77b4;stroke:#1f77b4;\" x=\"298.577386\" xlink:href=\"#m69742b82e9\" y=\"124.227566\"/>\r\n     <use style=\"fill:#1f77b4;stroke:#1f77b4;\" x=\"336.622841\" xlink:href=\"#m69742b82e9\" y=\"204.424988\"/>\r\n     <use style=\"fill:#1f77b4;stroke:#1f77b4;\" x=\"374.668295\" xlink:href=\"#m69742b82e9\" y=\"242.856422\"/>\r\n     <use style=\"fill:#1f77b4;stroke:#1f77b4;\" x=\"412.71375\" xlink:href=\"#m69742b82e9\" y=\"273.806126\"/>\r\n     <use style=\"fill:#1f77b4;stroke:#1f77b4;\" x=\"450.759205\" xlink:href=\"#m69742b82e9\" y=\"312.335635\"/>\r\n     <use style=\"fill:#1f77b4;stroke:#1f77b4;\" x=\"488.804659\" xlink:href=\"#m69742b82e9\" y=\"341.421912\"/>\r\n     <use style=\"fill:#1f77b4;stroke:#1f77b4;\" x=\"526.850114\" xlink:href=\"#m69742b82e9\" y=\"348.693481\"/>\r\n    </g>\r\n   </g>\r\n   <g id=\"line2d_30\">\r\n    <path clip-path=\"url(#pe898ef9ea6)\" d=\"M 298.577386 337.765111 \r\nL 336.622841 277.000572 \r\nL 374.668295 215.647583 \r\nL 412.71375 159.814822 \r\nL 450.759205 180.788886 \r\nL 488.804659 111.099512 \r\nL 526.850114 147.793615 \r\nL 564.895568 209.580937 \r\nL 602.941023 225.216912 \r\nL 640.986477 300.650686 \r\nL 679.031932 332.56713 \r\nL 717.077386 347.194333 \r\n\" style=\"fill:none;stroke:#ff7f0e;stroke-linecap:square;stroke-width:2;\"/>\r\n    <defs>\r\n     <path d=\"M 0 3 \r\nC 0.795609 3 1.55874 2.683901 2.12132 2.12132 \r\nC 2.683901 1.55874 3 0.795609 3 0 \r\nC 3 -0.795609 2.683901 -1.55874 2.12132 -2.12132 \r\nC 1.55874 -2.683901 0.795609 -3 0 -3 \r\nC -0.795609 -3 -1.55874 -2.683901 -2.12132 -2.12132 \r\nC -2.683901 -1.55874 -3 -0.795609 -3 0 \r\nC -3 0.795609 -2.683901 1.55874 -2.12132 2.12132 \r\nC -1.55874 2.683901 -0.795609 3 0 3 \r\nz\r\n\" id=\"mcdb66f3a08\" style=\"stroke:#ff7f0e;\"/>\r\n    </defs>\r\n    <g clip-path=\"url(#pe898ef9ea6)\">\r\n     <use style=\"fill:#ff7f0e;stroke:#ff7f0e;\" x=\"298.577386\" xlink:href=\"#mcdb66f3a08\" y=\"337.765111\"/>\r\n     <use style=\"fill:#ff7f0e;stroke:#ff7f0e;\" x=\"336.622841\" xlink:href=\"#mcdb66f3a08\" y=\"277.000572\"/>\r\n     <use style=\"fill:#ff7f0e;stroke:#ff7f0e;\" x=\"374.668295\" xlink:href=\"#mcdb66f3a08\" y=\"215.647583\"/>\r\n     <use style=\"fill:#ff7f0e;stroke:#ff7f0e;\" x=\"412.71375\" xlink:href=\"#mcdb66f3a08\" y=\"159.814822\"/>\r\n     <use style=\"fill:#ff7f0e;stroke:#ff7f0e;\" x=\"450.759205\" xlink:href=\"#mcdb66f3a08\" y=\"180.788886\"/>\r\n     <use style=\"fill:#ff7f0e;stroke:#ff7f0e;\" x=\"488.804659\" xlink:href=\"#mcdb66f3a08\" y=\"111.099512\"/>\r\n     <use style=\"fill:#ff7f0e;stroke:#ff7f0e;\" x=\"526.850114\" xlink:href=\"#mcdb66f3a08\" y=\"147.793615\"/>\r\n     <use style=\"fill:#ff7f0e;stroke:#ff7f0e;\" x=\"564.895568\" xlink:href=\"#mcdb66f3a08\" y=\"209.580937\"/>\r\n     <use style=\"fill:#ff7f0e;stroke:#ff7f0e;\" x=\"602.941023\" xlink:href=\"#mcdb66f3a08\" y=\"225.216912\"/>\r\n     <use style=\"fill:#ff7f0e;stroke:#ff7f0e;\" x=\"640.986477\" xlink:href=\"#mcdb66f3a08\" y=\"300.650686\"/>\r\n     <use style=\"fill:#ff7f0e;stroke:#ff7f0e;\" x=\"679.031932\" xlink:href=\"#mcdb66f3a08\" y=\"332.56713\"/>\r\n     <use style=\"fill:#ff7f0e;stroke:#ff7f0e;\" x=\"717.077386\" xlink:href=\"#mcdb66f3a08\" y=\"347.194333\"/>\r\n    </g>\r\n   </g>\r\n   <g id=\"line2d_31\">\r\n    <path clip-path=\"url(#pe898ef9ea6)\" d=\"M 336.622841 319.957472 \r\nL 374.668295 246.779427 \r\nL 412.71375 183.268785 \r\nL 450.759205 165.881468 \r\nL 488.804659 150.133407 \r\nL 526.850114 129.66373 \r\nL 564.895568 198.90476 \r\nL 602.941023 190.65244 \r\nL 640.986477 282.408714 \r\nL 679.031932 325.757915 \r\nL 717.077386 344.280101 \r\n\" style=\"fill:none;stroke:#2ca02c;stroke-linecap:square;stroke-width:2;\"/>\r\n    <defs>\r\n     <path d=\"M 0 3 \r\nC 0.795609 3 1.55874 2.683901 2.12132 2.12132 \r\nC 2.683901 1.55874 3 0.795609 3 0 \r\nC 3 -0.795609 2.683901 -1.55874 2.12132 -2.12132 \r\nC 1.55874 -2.683901 0.795609 -3 0 -3 \r\nC -0.795609 -3 -1.55874 -2.683901 -2.12132 -2.12132 \r\nC -2.683901 -1.55874 -3 -0.795609 -3 0 \r\nC -3 0.795609 -2.683901 1.55874 -2.12132 2.12132 \r\nC -1.55874 2.683901 -0.795609 3 0 3 \r\nz\r\n\" id=\"mc1399520cd\" style=\"stroke:#2ca02c;\"/>\r\n    </defs>\r\n    <g clip-path=\"url(#pe898ef9ea6)\">\r\n     <use style=\"fill:#2ca02c;stroke:#2ca02c;\" x=\"336.622841\" xlink:href=\"#mc1399520cd\" y=\"319.957472\"/>\r\n     <use style=\"fill:#2ca02c;stroke:#2ca02c;\" x=\"374.668295\" xlink:href=\"#mc1399520cd\" y=\"246.779427\"/>\r\n     <use style=\"fill:#2ca02c;stroke:#2ca02c;\" x=\"412.71375\" xlink:href=\"#mc1399520cd\" y=\"183.268785\"/>\r\n     <use style=\"fill:#2ca02c;stroke:#2ca02c;\" x=\"450.759205\" xlink:href=\"#mc1399520cd\" y=\"165.881468\"/>\r\n     <use style=\"fill:#2ca02c;stroke:#2ca02c;\" x=\"488.804659\" xlink:href=\"#mc1399520cd\" y=\"150.133407\"/>\r\n     <use style=\"fill:#2ca02c;stroke:#2ca02c;\" x=\"526.850114\" xlink:href=\"#mc1399520cd\" y=\"129.66373\"/>\r\n     <use style=\"fill:#2ca02c;stroke:#2ca02c;\" x=\"564.895568\" xlink:href=\"#mc1399520cd\" y=\"198.90476\"/>\r\n     <use style=\"fill:#2ca02c;stroke:#2ca02c;\" x=\"602.941023\" xlink:href=\"#mc1399520cd\" y=\"190.65244\"/>\r\n     <use style=\"fill:#2ca02c;stroke:#2ca02c;\" x=\"640.986477\" xlink:href=\"#mc1399520cd\" y=\"282.408714\"/>\r\n     <use style=\"fill:#2ca02c;stroke:#2ca02c;\" x=\"679.031932\" xlink:href=\"#mc1399520cd\" y=\"325.757915\"/>\r\n     <use style=\"fill:#2ca02c;stroke:#2ca02c;\" x=\"717.077386\" xlink:href=\"#mc1399520cd\" y=\"344.280101\"/>\r\n    </g>\r\n   </g>\r\n   <g id=\"line2d_32\">\r\n    <path clip-path=\"url(#pe898ef9ea6)\" d=\"M 336.622841 157.166794 \r\nL 374.668295 135.282033 \r\nL 412.71375 109.292128 \r\nL 450.759205 59.343873 \r\nL 488.804659 170.056666 \r\nL 526.850114 265.749956 \r\nL 564.895568 318.906668 \r\nL 602.941023 337.288746 \r\nL 640.986477 344.06994 \r\nL 679.031932 347.72674 \r\nL 717.077386 349.07177 \r\n\" style=\"fill:none;stroke:#d62728;stroke-linecap:square;stroke-width:2;\"/>\r\n    <defs>\r\n     <path d=\"M 0 3 \r\nC 0.795609 3 1.55874 2.683901 2.12132 2.12132 \r\nC 2.683901 1.55874 3 0.795609 3 0 \r\nC 3 -0.795609 2.683901 -1.55874 2.12132 -2.12132 \r\nC 1.55874 -2.683901 0.795609 -3 0 -3 \r\nC -0.795609 -3 -1.55874 -2.683901 -2.12132 -2.12132 \r\nC -2.683901 -1.55874 -3 -0.795609 -3 0 \r\nC -3 0.795609 -2.683901 1.55874 -2.12132 2.12132 \r\nC -1.55874 2.683901 -0.795609 3 0 3 \r\nz\r\n\" id=\"me15eeb7e1a\" style=\"stroke:#d62728;\"/>\r\n    </defs>\r\n    <g clip-path=\"url(#pe898ef9ea6)\">\r\n     <use style=\"fill:#d62728;stroke:#d62728;\" x=\"336.622841\" xlink:href=\"#me15eeb7e1a\" y=\"157.166794\"/>\r\n     <use style=\"fill:#d62728;stroke:#d62728;\" x=\"374.668295\" xlink:href=\"#me15eeb7e1a\" y=\"135.282033\"/>\r\n     <use style=\"fill:#d62728;stroke:#d62728;\" x=\"412.71375\" xlink:href=\"#me15eeb7e1a\" y=\"109.292128\"/>\r\n     <use style=\"fill:#d62728;stroke:#d62728;\" x=\"450.759205\" xlink:href=\"#me15eeb7e1a\" y=\"59.343873\"/>\r\n     <use style=\"fill:#d62728;stroke:#d62728;\" x=\"488.804659\" xlink:href=\"#me15eeb7e1a\" y=\"170.056666\"/>\r\n     <use style=\"fill:#d62728;stroke:#d62728;\" x=\"526.850114\" xlink:href=\"#me15eeb7e1a\" y=\"265.749956\"/>\r\n     <use style=\"fill:#d62728;stroke:#d62728;\" x=\"564.895568\" xlink:href=\"#me15eeb7e1a\" y=\"318.906668\"/>\r\n     <use style=\"fill:#d62728;stroke:#d62728;\" x=\"602.941023\" xlink:href=\"#me15eeb7e1a\" y=\"337.288746\"/>\r\n     <use style=\"fill:#d62728;stroke:#d62728;\" x=\"640.986477\" xlink:href=\"#me15eeb7e1a\" y=\"344.06994\"/>\r\n     <use style=\"fill:#d62728;stroke:#d62728;\" x=\"679.031932\" xlink:href=\"#me15eeb7e1a\" y=\"347.72674\"/>\r\n     <use style=\"fill:#d62728;stroke:#d62728;\" x=\"717.077386\" xlink:href=\"#me15eeb7e1a\" y=\"349.07177\"/>\r\n    </g>\r\n   </g>\r\n   <g id=\"line2d_33\">\r\n    <path clip-path=\"url(#pe898ef9ea6)\" d=\"M 260.531932 325.127432 \r\nL 298.577386 166.988316 \r\nL 336.622841 181.461401 \r\nL 374.668295 143.450289 \r\nL 412.71375 145.734038 \r\nL 450.759205 181.83969 \r\nL 488.804659 230.204732 \r\nL 526.850114 312.643871 \r\nL 564.895568 333.898149 \r\nL 602.941023 347.166311 \r\n\" style=\"fill:none;stroke:#9467bd;stroke-linecap:square;stroke-width:2;\"/>\r\n    <defs>\r\n     <path d=\"M 0 3 \r\nC 0.795609 3 1.55874 2.683901 2.12132 2.12132 \r\nC 2.683901 1.55874 3 0.795609 3 0 \r\nC 3 -0.795609 2.683901 -1.55874 2.12132 -2.12132 \r\nC 1.55874 -2.683901 0.795609 -3 0 -3 \r\nC -0.795609 -3 -1.55874 -2.683901 -2.12132 -2.12132 \r\nC -2.683901 -1.55874 -3 -0.795609 -3 0 \r\nC -3 0.795609 -2.683901 1.55874 -2.12132 2.12132 \r\nC -1.55874 2.683901 -0.795609 3 0 3 \r\nz\r\n\" id=\"m0036df326d\" style=\"stroke:#9467bd;\"/>\r\n    </defs>\r\n    <g clip-path=\"url(#pe898ef9ea6)\">\r\n     <use style=\"fill:#9467bd;stroke:#9467bd;\" x=\"260.531932\" xlink:href=\"#m0036df326d\" y=\"325.127432\"/>\r\n     <use style=\"fill:#9467bd;stroke:#9467bd;\" x=\"298.577386\" xlink:href=\"#m0036df326d\" y=\"166.988316\"/>\r\n     <use style=\"fill:#9467bd;stroke:#9467bd;\" x=\"336.622841\" xlink:href=\"#m0036df326d\" y=\"181.461401\"/>\r\n     <use style=\"fill:#9467bd;stroke:#9467bd;\" x=\"374.668295\" xlink:href=\"#m0036df326d\" y=\"143.450289\"/>\r\n     <use style=\"fill:#9467bd;stroke:#9467bd;\" x=\"412.71375\" xlink:href=\"#m0036df326d\" y=\"145.734038\"/>\r\n     <use style=\"fill:#9467bd;stroke:#9467bd;\" x=\"450.759205\" xlink:href=\"#m0036df326d\" y=\"181.83969\"/>\r\n     <use style=\"fill:#9467bd;stroke:#9467bd;\" x=\"488.804659\" xlink:href=\"#m0036df326d\" y=\"230.204732\"/>\r\n     <use style=\"fill:#9467bd;stroke:#9467bd;\" x=\"526.850114\" xlink:href=\"#m0036df326d\" y=\"312.643871\"/>\r\n     <use style=\"fill:#9467bd;stroke:#9467bd;\" x=\"564.895568\" xlink:href=\"#m0036df326d\" y=\"333.898149\"/>\r\n     <use style=\"fill:#9467bd;stroke:#9467bd;\" x=\"602.941023\" xlink:href=\"#m0036df326d\" y=\"347.166311\"/>\r\n    </g>\r\n   </g>\r\n   <g id=\"patch_3\">\r\n    <path d=\"M 77.91375 363.897225 \r\nL 77.91375 37.737225 \r\n\" style=\"fill:none;stroke:#000000;stroke-linecap:square;stroke-linejoin:miter;stroke-width:0.8;\"/>\r\n   </g>\r\n   <g id=\"patch_4\">\r\n    <path d=\"M 747.51375 363.897225 \r\nL 747.51375 37.737225 \r\n\" style=\"fill:none;stroke:#000000;stroke-linecap:square;stroke-linejoin:miter;stroke-width:0.8;\"/>\r\n   </g>\r\n   <g id=\"patch_5\">\r\n    <path d=\"M 77.91375 363.897225 \r\nL 747.51375 363.897225 \r\n\" style=\"fill:none;stroke:#000000;stroke-linecap:square;stroke-linejoin:miter;stroke-width:0.8;\"/>\r\n   </g>\r\n   <g id=\"patch_6\">\r\n    <path d=\"M 77.91375 37.737225 \r\nL 747.51375 37.737225 \r\n\" style=\"fill:none;stroke:#000000;stroke-linecap:square;stroke-linejoin:miter;stroke-width:0.8;\"/>\r\n   </g>\r\n   <g id=\"text_17\">\r\n    <!-- Top 5 Platforms Total Sales by Years -->\r\n    <defs>\r\n     <path d=\"M 18.109375 8.203125 \r\nL 18.109375 -20.796875 \r\nL 9.078125 -20.796875 \r\nL 9.078125 54.6875 \r\nL 18.109375 54.6875 \r\nL 18.109375 46.390625 \r\nQ 20.953125 51.265625 25.265625 53.625 \r\nQ 29.59375 56 35.59375 56 \r\nQ 45.5625 56 51.78125 48.09375 \r\nQ 58.015625 40.1875 58.015625 27.296875 \r\nQ 58.015625 14.40625 51.78125 6.484375 \r\nQ 45.5625 -1.421875 35.59375 -1.421875 \r\nQ 29.59375 -1.421875 25.265625 0.953125 \r\nQ 20.953125 3.328125 18.109375 8.203125 \r\nz\r\nM 48.6875 27.296875 \r\nQ 48.6875 37.203125 44.609375 42.84375 \r\nQ 40.53125 48.484375 33.40625 48.484375 \r\nQ 26.265625 48.484375 22.1875 42.84375 \r\nQ 18.109375 37.203125 18.109375 27.296875 \r\nQ 18.109375 17.390625 22.1875 11.75 \r\nQ 26.265625 6.109375 33.40625 6.109375 \r\nQ 40.53125 6.109375 44.609375 11.75 \r\nQ 48.6875 17.390625 48.6875 27.296875 \r\nz\r\n\" id=\"DejaVuSans-112\"/>\r\n     <path d=\"M 19.671875 64.796875 \r\nL 19.671875 37.40625 \r\nL 32.078125 37.40625 \r\nQ 38.96875 37.40625 42.71875 40.96875 \r\nQ 46.484375 44.53125 46.484375 51.125 \r\nQ 46.484375 57.671875 42.71875 61.234375 \r\nQ 38.96875 64.796875 32.078125 64.796875 \r\nz\r\nM 9.8125 72.90625 \r\nL 32.078125 72.90625 \r\nQ 44.34375 72.90625 50.609375 67.359375 \r\nQ 56.890625 61.8125 56.890625 51.125 \r\nQ 56.890625 40.328125 50.609375 34.8125 \r\nQ 44.34375 29.296875 32.078125 29.296875 \r\nL 19.671875 29.296875 \r\nL 19.671875 0 \r\nL 9.8125 0 \r\nz\r\n\" id=\"DejaVuSans-80\"/>\r\n     <path d=\"M 37.109375 75.984375 \r\nL 37.109375 68.5 \r\nL 28.515625 68.5 \r\nQ 23.6875 68.5 21.796875 66.546875 \r\nQ 19.921875 64.59375 19.921875 59.515625 \r\nL 19.921875 54.6875 \r\nL 34.71875 54.6875 \r\nL 34.71875 47.703125 \r\nL 19.921875 47.703125 \r\nL 19.921875 0 \r\nL 10.890625 0 \r\nL 10.890625 47.703125 \r\nL 2.296875 47.703125 \r\nL 2.296875 54.6875 \r\nL 10.890625 54.6875 \r\nL 10.890625 58.5 \r\nQ 10.890625 67.625 15.140625 71.796875 \r\nQ 19.390625 75.984375 28.609375 75.984375 \r\nz\r\n\" id=\"DejaVuSans-102\"/>\r\n     <path d=\"M 52 44.1875 \r\nQ 55.375 50.25 60.0625 53.125 \r\nQ 64.75 56 71.09375 56 \r\nQ 79.640625 56 84.28125 50.015625 \r\nQ 88.921875 44.046875 88.921875 33.015625 \r\nL 88.921875 0 \r\nL 79.890625 0 \r\nL 79.890625 32.71875 \r\nQ 79.890625 40.578125 77.09375 44.375 \r\nQ 74.3125 48.1875 68.609375 48.1875 \r\nQ 61.625 48.1875 57.5625 43.546875 \r\nQ 53.515625 38.921875 53.515625 30.90625 \r\nL 53.515625 0 \r\nL 44.484375 0 \r\nL 44.484375 32.71875 \r\nQ 44.484375 40.625 41.703125 44.40625 \r\nQ 38.921875 48.1875 33.109375 48.1875 \r\nQ 26.21875 48.1875 22.15625 43.53125 \r\nQ 18.109375 38.875 18.109375 30.90625 \r\nL 18.109375 0 \r\nL 9.078125 0 \r\nL 9.078125 54.6875 \r\nL 18.109375 54.6875 \r\nL 18.109375 46.1875 \r\nQ 21.1875 51.21875 25.484375 53.609375 \r\nQ 29.78125 56 35.6875 56 \r\nQ 41.65625 56 45.828125 52.96875 \r\nQ 50 49.953125 52 44.1875 \r\nz\r\n\" id=\"DejaVuSans-109\"/>\r\n     <path d=\"M 48.6875 27.296875 \r\nQ 48.6875 37.203125 44.609375 42.84375 \r\nQ 40.53125 48.484375 33.40625 48.484375 \r\nQ 26.265625 48.484375 22.1875 42.84375 \r\nQ 18.109375 37.203125 18.109375 27.296875 \r\nQ 18.109375 17.390625 22.1875 11.75 \r\nQ 26.265625 6.109375 33.40625 6.109375 \r\nQ 40.53125 6.109375 44.609375 11.75 \r\nQ 48.6875 17.390625 48.6875 27.296875 \r\nz\r\nM 18.109375 46.390625 \r\nQ 20.953125 51.265625 25.265625 53.625 \r\nQ 29.59375 56 35.59375 56 \r\nQ 45.5625 56 51.78125 48.09375 \r\nQ 58.015625 40.1875 58.015625 27.296875 \r\nQ 58.015625 14.40625 51.78125 6.484375 \r\nQ 45.5625 -1.421875 35.59375 -1.421875 \r\nQ 29.59375 -1.421875 25.265625 0.953125 \r\nQ 20.953125 3.328125 18.109375 8.203125 \r\nL 18.109375 0 \r\nL 9.078125 0 \r\nL 9.078125 75.984375 \r\nL 18.109375 75.984375 \r\nz\r\n\" id=\"DejaVuSans-98\"/>\r\n     <path d=\"M 32.171875 -5.078125 \r\nQ 28.375 -14.84375 24.75 -17.8125 \r\nQ 21.140625 -20.796875 15.09375 -20.796875 \r\nL 7.90625 -20.796875 \r\nL 7.90625 -13.28125 \r\nL 13.1875 -13.28125 \r\nQ 16.890625 -13.28125 18.9375 -11.515625 \r\nQ 21 -9.765625 23.484375 -3.21875 \r\nL 25.09375 0.875 \r\nL 2.984375 54.6875 \r\nL 12.5 54.6875 \r\nL 29.59375 11.921875 \r\nL 46.6875 54.6875 \r\nL 56.203125 54.6875 \r\nz\r\n\" id=\"DejaVuSans-121\"/>\r\n    </defs>\r\n    <g transform=\"translate(163.080625 28.475625)scale(0.28 -0.28)\">\r\n     <use xlink:href=\"#DejaVuSans-84\"/>\r\n     <use x=\"44.083984\" xlink:href=\"#DejaVuSans-111\"/>\r\n     <use x=\"105.265625\" xlink:href=\"#DejaVuSans-112\"/>\r\n     <use x=\"168.742188\" xlink:href=\"#DejaVuSans-32\"/>\r\n     <use x=\"200.529297\" xlink:href=\"#DejaVuSans-53\"/>\r\n     <use x=\"264.152344\" xlink:href=\"#DejaVuSans-32\"/>\r\n     <use x=\"295.939453\" xlink:href=\"#DejaVuSans-80\"/>\r\n     <use x=\"356.242188\" xlink:href=\"#DejaVuSans-108\"/>\r\n     <use x=\"384.025391\" xlink:href=\"#DejaVuSans-97\"/>\r\n     <use x=\"445.304688\" xlink:href=\"#DejaVuSans-116\"/>\r\n     <use x=\"484.513672\" xlink:href=\"#DejaVuSans-102\"/>\r\n     <use x=\"519.71875\" xlink:href=\"#DejaVuSans-111\"/>\r\n     <use x=\"580.900391\" xlink:href=\"#DejaVuSans-114\"/>\r\n     <use x=\"620.263672\" xlink:href=\"#DejaVuSans-109\"/>\r\n     <use x=\"717.675781\" xlink:href=\"#DejaVuSans-115\"/>\r\n     <use x=\"769.775391\" xlink:href=\"#DejaVuSans-32\"/>\r\n     <use x=\"801.5625\" xlink:href=\"#DejaVuSans-84\"/>\r\n     <use x=\"845.646484\" xlink:href=\"#DejaVuSans-111\"/>\r\n     <use x=\"906.828125\" xlink:href=\"#DejaVuSans-116\"/>\r\n     <use x=\"946.037109\" xlink:href=\"#DejaVuSans-97\"/>\r\n     <use x=\"1007.316406\" xlink:href=\"#DejaVuSans-108\"/>\r\n     <use x=\"1035.099609\" xlink:href=\"#DejaVuSans-32\"/>\r\n     <use x=\"1066.886719\" xlink:href=\"#DejaVuSans-83\"/>\r\n     <use x=\"1130.363281\" xlink:href=\"#DejaVuSans-97\"/>\r\n     <use x=\"1191.642578\" xlink:href=\"#DejaVuSans-108\"/>\r\n     <use x=\"1219.425781\" xlink:href=\"#DejaVuSans-101\"/>\r\n     <use x=\"1280.949219\" xlink:href=\"#DejaVuSans-115\"/>\r\n     <use x=\"1333.048828\" xlink:href=\"#DejaVuSans-32\"/>\r\n     <use x=\"1364.835938\" xlink:href=\"#DejaVuSans-98\"/>\r\n     <use x=\"1428.3125\" xlink:href=\"#DejaVuSans-121\"/>\r\n     <use x=\"1487.492188\" xlink:href=\"#DejaVuSans-32\"/>\r\n     <use x=\"1519.279297\" xlink:href=\"#DejaVuSans-89\"/>\r\n     <use x=\"1567.113281\" xlink:href=\"#DejaVuSans-101\"/>\r\n     <use x=\"1628.636719\" xlink:href=\"#DejaVuSans-97\"/>\r\n     <use x=\"1689.916016\" xlink:href=\"#DejaVuSans-114\"/>\r\n     <use x=\"1731.029297\" xlink:href=\"#DejaVuSans-115\"/>\r\n    </g>\r\n   </g>\r\n   <g id=\"legend_1\">\r\n    <g id=\"patch_7\">\r\n     <path d=\"M 682.57625 119.12785 \r\nL 740.51375 119.12785 \r\nQ 742.51375 119.12785 742.51375 117.12785 \r\nL 742.51375 44.737225 \r\nQ 742.51375 42.737225 740.51375 42.737225 \r\nL 682.57625 42.737225 \r\nQ 680.57625 42.737225 680.57625 44.737225 \r\nL 680.57625 117.12785 \r\nQ 680.57625 119.12785 682.57625 119.12785 \r\nz\r\n\" style=\"fill:#ffffff;opacity:0.8;stroke:#cccccc;stroke-linejoin:miter;\"/>\r\n    </g>\r\n    <g id=\"line2d_34\">\r\n     <path d=\"M 684.57625 50.835662 \r\nL 704.57625 50.835662 \r\n\" style=\"fill:none;stroke:#1f77b4;stroke-linecap:square;stroke-width:2;\"/>\r\n    </g>\r\n    <g id=\"line2d_35\">\r\n     <g>\r\n      <use style=\"fill:#1f77b4;stroke:#1f77b4;\" x=\"694.57625\" xlink:href=\"#m69742b82e9\" y=\"50.835662\"/>\r\n     </g>\r\n    </g>\r\n    <g id=\"text_18\">\r\n     <!-- PS2 -->\r\n     <g transform=\"translate(712.57625 54.335662)scale(0.1 -0.1)\">\r\n      <use xlink:href=\"#DejaVuSans-80\"/>\r\n      <use x=\"60.302734\" xlink:href=\"#DejaVuSans-83\"/>\r\n      <use x=\"123.779297\" xlink:href=\"#DejaVuSans-50\"/>\r\n     </g>\r\n    </g>\r\n    <g id=\"line2d_36\">\r\n     <path d=\"M 684.57625 65.513787 \r\nL 704.57625 65.513787 \r\n\" style=\"fill:none;stroke:#ff7f0e;stroke-linecap:square;stroke-width:2;\"/>\r\n    </g>\r\n    <g id=\"line2d_37\">\r\n     <g>\r\n      <use style=\"fill:#ff7f0e;stroke:#ff7f0e;\" x=\"694.57625\" xlink:href=\"#mcdb66f3a08\" y=\"65.513787\"/>\r\n     </g>\r\n    </g>\r\n    <g id=\"text_19\">\r\n     <!-- X360 -->\r\n     <defs>\r\n      <path d=\"M 6.296875 72.90625 \r\nL 16.890625 72.90625 \r\nL 35.015625 45.796875 \r\nL 53.21875 72.90625 \r\nL 63.8125 72.90625 \r\nL 40.375 37.890625 \r\nL 65.375 0 \r\nL 54.78125 0 \r\nL 34.28125 31 \r\nL 13.625 0 \r\nL 2.984375 0 \r\nL 29 38.921875 \r\nz\r\n\" id=\"DejaVuSans-88\"/>\r\n      <path d=\"M 40.578125 39.3125 \r\nQ 47.65625 37.796875 51.625 33 \r\nQ 55.609375 28.21875 55.609375 21.1875 \r\nQ 55.609375 10.40625 48.1875 4.484375 \r\nQ 40.765625 -1.421875 27.09375 -1.421875 \r\nQ 22.515625 -1.421875 17.65625 -0.515625 \r\nQ 12.796875 0.390625 7.625 2.203125 \r\nL 7.625 11.71875 \r\nQ 11.71875 9.328125 16.59375 8.109375 \r\nQ 21.484375 6.890625 26.8125 6.890625 \r\nQ 36.078125 6.890625 40.9375 10.546875 \r\nQ 45.796875 14.203125 45.796875 21.1875 \r\nQ 45.796875 27.640625 41.28125 31.265625 \r\nQ 36.765625 34.90625 28.71875 34.90625 \r\nL 20.21875 34.90625 \r\nL 20.21875 43.015625 \r\nL 29.109375 43.015625 \r\nQ 36.375 43.015625 40.234375 45.921875 \r\nQ 44.09375 48.828125 44.09375 54.296875 \r\nQ 44.09375 59.90625 40.109375 62.90625 \r\nQ 36.140625 65.921875 28.71875 65.921875 \r\nQ 24.65625 65.921875 20.015625 65.03125 \r\nQ 15.375 64.15625 9.8125 62.3125 \r\nL 9.8125 71.09375 \r\nQ 15.4375 72.65625 20.34375 73.4375 \r\nQ 25.25 74.21875 29.59375 74.21875 \r\nQ 40.828125 74.21875 47.359375 69.109375 \r\nQ 53.90625 64.015625 53.90625 55.328125 \r\nQ 53.90625 49.265625 50.4375 45.09375 \r\nQ 46.96875 40.921875 40.578125 39.3125 \r\nz\r\n\" id=\"DejaVuSans-51\"/>\r\n     </defs>\r\n     <g transform=\"translate(712.57625 69.013787)scale(0.1 -0.1)\">\r\n      <use xlink:href=\"#DejaVuSans-88\"/>\r\n      <use x=\"68.505859\" xlink:href=\"#DejaVuSans-51\"/>\r\n      <use x=\"132.128906\" xlink:href=\"#DejaVuSans-54\"/>\r\n      <use x=\"195.751953\" xlink:href=\"#DejaVuSans-48\"/>\r\n     </g>\r\n    </g>\r\n    <g id=\"line2d_38\">\r\n     <path d=\"M 684.57625 80.191912 \r\nL 704.57625 80.191912 \r\n\" style=\"fill:none;stroke:#2ca02c;stroke-linecap:square;stroke-width:2;\"/>\r\n    </g>\r\n    <g id=\"line2d_39\">\r\n     <g>\r\n      <use style=\"fill:#2ca02c;stroke:#2ca02c;\" x=\"694.57625\" xlink:href=\"#mc1399520cd\" y=\"80.191912\"/>\r\n     </g>\r\n    </g>\r\n    <g id=\"text_20\">\r\n     <!-- PS3 -->\r\n     <g transform=\"translate(712.57625 83.691912)scale(0.1 -0.1)\">\r\n      <use xlink:href=\"#DejaVuSans-80\"/>\r\n      <use x=\"60.302734\" xlink:href=\"#DejaVuSans-83\"/>\r\n      <use x=\"123.779297\" xlink:href=\"#DejaVuSans-51\"/>\r\n     </g>\r\n    </g>\r\n    <g id=\"line2d_40\">\r\n     <path d=\"M 684.57625 94.870037 \r\nL 704.57625 94.870037 \r\n\" style=\"fill:none;stroke:#d62728;stroke-linecap:square;stroke-width:2;\"/>\r\n    </g>\r\n    <g id=\"line2d_41\">\r\n     <g>\r\n      <use style=\"fill:#d62728;stroke:#d62728;\" x=\"694.57625\" xlink:href=\"#me15eeb7e1a\" y=\"94.870037\"/>\r\n     </g>\r\n    </g>\r\n    <g id=\"text_21\">\r\n     <!-- Wii -->\r\n     <defs>\r\n      <path d=\"M 3.328125 72.90625 \r\nL 13.28125 72.90625 \r\nL 28.609375 11.28125 \r\nL 43.890625 72.90625 \r\nL 54.984375 72.90625 \r\nL 70.3125 11.28125 \r\nL 85.59375 72.90625 \r\nL 95.609375 72.90625 \r\nL 77.296875 0 \r\nL 64.890625 0 \r\nL 49.515625 63.28125 \r\nL 33.984375 0 \r\nL 21.578125 0 \r\nz\r\n\" id=\"DejaVuSans-87\"/>\r\n      <path d=\"M 9.421875 54.6875 \r\nL 18.40625 54.6875 \r\nL 18.40625 0 \r\nL 9.421875 0 \r\nz\r\nM 9.421875 75.984375 \r\nL 18.40625 75.984375 \r\nL 18.40625 64.59375 \r\nL 9.421875 64.59375 \r\nz\r\n\" id=\"DejaVuSans-105\"/>\r\n     </defs>\r\n     <g transform=\"translate(712.57625 98.370037)scale(0.1 -0.1)\">\r\n      <use xlink:href=\"#DejaVuSans-87\"/>\r\n      <use x=\"96.626953\" xlink:href=\"#DejaVuSans-105\"/>\r\n      <use x=\"124.410156\" xlink:href=\"#DejaVuSans-105\"/>\r\n     </g>\r\n    </g>\r\n    <g id=\"line2d_42\">\r\n     <path d=\"M 684.57625 109.548162 \r\nL 704.57625 109.548162 \r\n\" style=\"fill:none;stroke:#9467bd;stroke-linecap:square;stroke-width:2;\"/>\r\n    </g>\r\n    <g id=\"line2d_43\">\r\n     <g>\r\n      <use style=\"fill:#9467bd;stroke:#9467bd;\" x=\"694.57625\" xlink:href=\"#m0036df326d\" y=\"109.548162\"/>\r\n     </g>\r\n    </g>\r\n    <g id=\"text_22\">\r\n     <!-- DS -->\r\n     <defs>\r\n      <path d=\"M 19.671875 64.796875 \r\nL 19.671875 8.109375 \r\nL 31.59375 8.109375 \r\nQ 46.6875 8.109375 53.6875 14.9375 \r\nQ 60.6875 21.78125 60.6875 36.53125 \r\nQ 60.6875 51.171875 53.6875 57.984375 \r\nQ 46.6875 64.796875 31.59375 64.796875 \r\nz\r\nM 9.8125 72.90625 \r\nL 30.078125 72.90625 \r\nQ 51.265625 72.90625 61.171875 64.09375 \r\nQ 71.09375 55.28125 71.09375 36.53125 \r\nQ 71.09375 17.671875 61.125 8.828125 \r\nQ 51.171875 0 30.078125 0 \r\nL 9.8125 0 \r\nz\r\n\" id=\"DejaVuSans-68\"/>\r\n     </defs>\r\n     <g transform=\"translate(712.57625 113.048162)scale(0.1 -0.1)\">\r\n      <use xlink:href=\"#DejaVuSans-68\"/>\r\n      <use x=\"77.001953\" xlink:href=\"#DejaVuSans-83\"/>\r\n     </g>\r\n    </g>\r\n   </g>\r\n  </g>\r\n </g>\r\n <defs>\r\n  <clipPath id=\"pe898ef9ea6\">\r\n   <rect height=\"326.16\" width=\"669.6\" x=\"77.91375\" y=\"37.737225\"/>\r\n  </clipPath>\r\n </defs>\r\n</svg>\r\n",
      "image/png": "[encoded data removed]"
     },
     "metadata": {
      "needs_background": "light"
     }
    }
   ],
   "source": [
    "top_platforms = df.query('platform in @platform_names')\n",
    "platform_group = top_platforms.groupby(['platform', 'year_of_release']).sum()\n",
    "platform_group.reset_index(inplace=True)\n",
    "\n",
    "ps2_group = platform_group[platform_group['platform'] == 'PS2'].groupby('year_of_release')['total_sales'].sum()\n",
    "x360_group = platform_group[platform_group['platform'] == 'X360'].groupby('year_of_release')['total_sales'].sum()\n",
    "ps3_group = platform_group[platform_group['platform'] == 'PS3'].groupby('year_of_release')['total_sales'].sum()\n",
    "wii_group = platform_group[platform_group['platform'] == 'Wii'].groupby('year_of_release')['total_sales'].sum()\n",
    "ds_group = platform_group[platform_group['platform'] == 'DS'].groupby('year_of_release')['total_sales'].sum()\n",
    "\n",
    "#plt.plot(ps2_group, x360_group, ps3_group, wii_group, ds_group, style='-o', color=('steelblue', \"seagreen\", \"firebrick\", \"darkorange\", \"red\"), figsize=(16, 14), linewidth=2)\n",
    "ps2_group.plot(style='-o', figsize=(12, 6), linewidth=2)\n",
    "x360_group.plot(style='-o', figsize=(12, 6), linewidth=2)\n",
    "ps3_group.plot(style='-o', figsize=(12, 6), linewidth=2)\n",
    "wii_group.plot(style='-o', figsize=(12, 6), linewidth=2)\n",
    "ds_group.plot(style='-o', figsize=(12, 6), linewidth=2)\n",
    "\n",
    "plt.title(\"Top 5 Platforms Total Sales by Years\", fontsize=28, y=1.01)\n",
    "plt.yticks(fontsize = 18)\n",
    "plt.xticks(fontsize = 18)\n",
    "plt.xlabel(\"Year\", fontsize=20, labelpad=10)\n",
    "plt.ylabel(\"Total Sales\", fontsize=20, labelpad=10)\n",
    "plt.grid()\n",
    "plt.legend(labels=['PS2', 'X360', 'PS3', 'Wii', 'DS'])\n",
    "plt.show()"
   ]
  },
  {
   "cell_type": "markdown",
   "metadata": {},
   "source": [
    "### Conclusion\n",
    "\n",
    "We can see that all of the top platforms were very popular when they came out with continous rise in sales but after 3-5 years their total sales began dropping till they reached 0 sales. We can infer from that the the life-span of a popular platform is 4~ years and then it's a good time to think about the next platform to produce. \n",
    "\n",
    "Also, we can see that it generally take 0-2 for a new platform to appear and become popular and fading takes longer(probably because of fan-base communities that were made over time)"
   ]
  },
  {
   "cell_type": "markdown",
   "metadata": {},
   "source": [
    "## C. Prognosis for 2017\n",
    "\n",
    "<a id=\"2017\"></a>"
   ]
  },
  {
   "cell_type": "code",
   "execution_count": 835,
   "metadata": {},
   "outputs": [
    {
     "output_type": "execute_result",
     "data": {
      "text/plain": "'\\nDetermine what period you should take data for. To do so, look at your answers to the previous questions. The data should allow you to build a prognosis for 2017.\\n'"
     },
     "metadata": {},
     "execution_count": 835
    }
   ],
   "source": [
    "# Determine what period you should take data for. To do so, look at your answers to the previous questions. The data should allow you to build a prognosis for 2017."
   ]
  }
 ]
}