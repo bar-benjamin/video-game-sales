{
 "metadata": {
  "language_info": {
   "codemirror_mode": {
    "name": "ipython",
    "version": 3
   },
   "file_extension": ".py",
   "mimetype": "text/x-python",
   "name": "python",
   "nbconvert_exporter": "python",
   "pygments_lexer": "ipython3",
   "version": 3
  },
  "orig_nbformat": 2
 },
 "nbformat": 4,
 "nbformat_minor": 2,
 "cells": [
  {
   "cell_type": "markdown",
   "metadata": {},
   "source": [
    "---\n",
    "\n",
    "# <center>VIDEO GAME SALES 🎮</center>\n",
    "\n",
    "---\n",
    "\n",
    "<center><img src=\"https://giffiles.alphacoders.com/162/162991.gif\"></center>\n",
    "\n",
    "---\n",
    "\n",
    "# Description\n",
    "\n",
    "This dataset contains a list of video games with sales greater than 100,000 copies till 2016.\n",
    "\n",
    "**Data description**\n",
    "\n",
    "   * Name - The games name\n",
    "\n",
    "   * Platform - Platform of the games release (i.e. PC,PS4, etc.)\n",
    "\n",
    "   * Year_of_Release - Year of the game's release\n",
    "\n",
    "   * Genre - Genre of the game\n",
    "\n",
    "   * NA_sales - Sales in North America (in USD millions)\n",
    "\n",
    "   * EU_sales - Sales in Europe (in USD millions)\n",
    "\n",
    "   * JP_sales - Sales in Japan (in USD millions)\n",
    "\n",
    "   * Other_Sales - Sales in the rest of the world (in USD millions)\n",
    "\n",
    "   * Critic_Score (maximum of 100) - Critics review score\n",
    "\n",
    "   * User_Score (maximum of 10) - Users review score\n",
    "\n",
    "   * Rating (ESRB) - Ratings determined by the Entertainment Software Rating Board\n",
    "\n",
    "---\n",
    "\n",
    "# Objective\n",
    "In this <b>project</b> I will deal only with <b>data preprocessing, exploratory data analysis and statistical data analysis</b>, where the objective is to understand how the data is distributed and generate insight for future decision-making in order to identify patterns that determine whether a game succeeds or not. This will allow companies to spot potential top games and plan advertising campaigns, this analysis aims to explore as much as possible the data in a simple, intuitive and informative way. The data used in this project contains information only from <b>1980</b> to <b>2016</b>. Below is a sketch of all the stages made in these notebooks, following a logical and intuitive sequence to facilitate the understanding of the data.\n",
    "\n",
    "---\n",
    "\n",
    "# Outline\n",
    "\n",
    "**Step 1. Open the data file and study the general information**<br>\n",
    "A. [Used Libraries](#bibliotheque)<br>\n",
    "\n",
    "---"
   ]
  },
  {
   "cell_type": "markdown",
   "metadata": {},
   "source": [
    "# Step 1. Open the data file and study the general information\n",
    "## A. Used Libraries\n",
    "\n",
    "<a id=\"bibliotheque\"></a>"
   ]
  }
 ]
}